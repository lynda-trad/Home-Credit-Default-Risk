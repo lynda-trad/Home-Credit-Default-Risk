{
 "cells": [
  {
   "cell_type": "markdown",
   "id": "4a3ad134",
   "metadata": {},
   "source": [
    "# Home Credit Default Risk"
   ]
  },
  {
   "cell_type": "markdown",
   "id": "3c10a254",
   "metadata": {},
   "source": [
    "# Library used"
   ]
  },
  {
   "cell_type": "code",
   "execution_count": 255,
   "id": "a725b07c",
   "metadata": {},
   "outputs": [],
   "source": [
    "import numpy as np\n",
    "import pandas as pd\n",
    "from pandas import Series, DataFrame\n",
    "import seaborn as sns\n",
    "import matplotlib.pyplot as plt\n",
    "import plotly.express as px\n",
    "import graphviz\n",
    "\n",
    "# Machine Learning Library\n",
    "from sklearn import metrics\n",
    "from sklearn.metrics import multilabel_confusion_matrix, classification_report, accuracy_score, precision_score\n",
    "from sklearn.model_selection import train_test_split, cross_val_score\n",
    "from sklearn.preprocessing import LabelEncoder, StandardScaler, MinMaxScaler\n",
    "from sklearn.impute import SimpleImputer\n",
    "import joblib\n",
    "\n",
    "# Logistic Regression\n",
    "from sklearn.linear_model import LogisticRegression\n",
    "\n",
    "# Decision Tree\n",
    "from sklearn import tree\n",
    "from sklearn.tree import DecisionTreeClassifier\n",
    "\n",
    "# Random Forest\n",
    "from sklearn.ensemble import RandomForestClassifier\n",
    "\n",
    "# XGBoost\n",
    "import xgboost as xgb\n",
    "\n",
    "from warnings import filterwarnings\n",
    "filterwarnings('ignore')"
   ]
  },
  {
   "cell_type": "markdown",
   "id": "f01fa184",
   "metadata": {},
   "source": [
    "## Data"
   ]
  },
  {
   "cell_type": "code",
   "execution_count": 256,
   "id": "83575876",
   "metadata": {
    "scrolled": true
   },
   "outputs": [
    {
     "data": {
      "text/html": [
       "<div>\n",
       "<style scoped>\n",
       "    .dataframe tbody tr th:only-of-type {\n",
       "        vertical-align: middle;\n",
       "    }\n",
       "\n",
       "    .dataframe tbody tr th {\n",
       "        vertical-align: top;\n",
       "    }\n",
       "\n",
       "    .dataframe thead th {\n",
       "        text-align: right;\n",
       "    }\n",
       "</style>\n",
       "<table border=\"1\" class=\"dataframe\">\n",
       "  <thead>\n",
       "    <tr style=\"text-align: right;\">\n",
       "      <th></th>\n",
       "      <th>SK_ID_CURR</th>\n",
       "      <th>NAME_CONTRACT_TYPE</th>\n",
       "      <th>CODE_GENDER</th>\n",
       "      <th>FLAG_OWN_CAR</th>\n",
       "      <th>FLAG_OWN_REALTY</th>\n",
       "      <th>CNT_CHILDREN</th>\n",
       "      <th>AMT_INCOME_TOTAL</th>\n",
       "      <th>AMT_CREDIT</th>\n",
       "      <th>AMT_ANNUITY</th>\n",
       "      <th>AMT_GOODS_PRICE</th>\n",
       "      <th>...</th>\n",
       "      <th>FLAG_DOCUMENT_18</th>\n",
       "      <th>FLAG_DOCUMENT_19</th>\n",
       "      <th>FLAG_DOCUMENT_20</th>\n",
       "      <th>FLAG_DOCUMENT_21</th>\n",
       "      <th>AMT_REQ_CREDIT_BUREAU_HOUR</th>\n",
       "      <th>AMT_REQ_CREDIT_BUREAU_DAY</th>\n",
       "      <th>AMT_REQ_CREDIT_BUREAU_WEEK</th>\n",
       "      <th>AMT_REQ_CREDIT_BUREAU_MON</th>\n",
       "      <th>AMT_REQ_CREDIT_BUREAU_QRT</th>\n",
       "      <th>AMT_REQ_CREDIT_BUREAU_YEAR</th>\n",
       "    </tr>\n",
       "  </thead>\n",
       "  <tbody>\n",
       "    <tr>\n",
       "      <th>0</th>\n",
       "      <td>100001</td>\n",
       "      <td>Cash loans</td>\n",
       "      <td>F</td>\n",
       "      <td>N</td>\n",
       "      <td>Y</td>\n",
       "      <td>0</td>\n",
       "      <td>135000.0</td>\n",
       "      <td>568800.0</td>\n",
       "      <td>20560.5</td>\n",
       "      <td>450000.0</td>\n",
       "      <td>...</td>\n",
       "      <td>0</td>\n",
       "      <td>0</td>\n",
       "      <td>0</td>\n",
       "      <td>0</td>\n",
       "      <td>0.0</td>\n",
       "      <td>0.0</td>\n",
       "      <td>0.0</td>\n",
       "      <td>0.0</td>\n",
       "      <td>0.0</td>\n",
       "      <td>0.0</td>\n",
       "    </tr>\n",
       "    <tr>\n",
       "      <th>1</th>\n",
       "      <td>100005</td>\n",
       "      <td>Cash loans</td>\n",
       "      <td>M</td>\n",
       "      <td>N</td>\n",
       "      <td>Y</td>\n",
       "      <td>0</td>\n",
       "      <td>99000.0</td>\n",
       "      <td>222768.0</td>\n",
       "      <td>17370.0</td>\n",
       "      <td>180000.0</td>\n",
       "      <td>...</td>\n",
       "      <td>0</td>\n",
       "      <td>0</td>\n",
       "      <td>0</td>\n",
       "      <td>0</td>\n",
       "      <td>0.0</td>\n",
       "      <td>0.0</td>\n",
       "      <td>0.0</td>\n",
       "      <td>0.0</td>\n",
       "      <td>0.0</td>\n",
       "      <td>3.0</td>\n",
       "    </tr>\n",
       "    <tr>\n",
       "      <th>2</th>\n",
       "      <td>100013</td>\n",
       "      <td>Cash loans</td>\n",
       "      <td>M</td>\n",
       "      <td>Y</td>\n",
       "      <td>Y</td>\n",
       "      <td>0</td>\n",
       "      <td>202500.0</td>\n",
       "      <td>663264.0</td>\n",
       "      <td>69777.0</td>\n",
       "      <td>630000.0</td>\n",
       "      <td>...</td>\n",
       "      <td>0</td>\n",
       "      <td>0</td>\n",
       "      <td>0</td>\n",
       "      <td>0</td>\n",
       "      <td>0.0</td>\n",
       "      <td>0.0</td>\n",
       "      <td>0.0</td>\n",
       "      <td>0.0</td>\n",
       "      <td>1.0</td>\n",
       "      <td>4.0</td>\n",
       "    </tr>\n",
       "    <tr>\n",
       "      <th>3</th>\n",
       "      <td>100028</td>\n",
       "      <td>Cash loans</td>\n",
       "      <td>F</td>\n",
       "      <td>N</td>\n",
       "      <td>Y</td>\n",
       "      <td>2</td>\n",
       "      <td>315000.0</td>\n",
       "      <td>1575000.0</td>\n",
       "      <td>49018.5</td>\n",
       "      <td>1575000.0</td>\n",
       "      <td>...</td>\n",
       "      <td>0</td>\n",
       "      <td>0</td>\n",
       "      <td>0</td>\n",
       "      <td>0</td>\n",
       "      <td>0.0</td>\n",
       "      <td>0.0</td>\n",
       "      <td>0.0</td>\n",
       "      <td>0.0</td>\n",
       "      <td>0.0</td>\n",
       "      <td>3.0</td>\n",
       "    </tr>\n",
       "    <tr>\n",
       "      <th>4</th>\n",
       "      <td>100038</td>\n",
       "      <td>Cash loans</td>\n",
       "      <td>M</td>\n",
       "      <td>Y</td>\n",
       "      <td>N</td>\n",
       "      <td>1</td>\n",
       "      <td>180000.0</td>\n",
       "      <td>625500.0</td>\n",
       "      <td>32067.0</td>\n",
       "      <td>625500.0</td>\n",
       "      <td>...</td>\n",
       "      <td>0</td>\n",
       "      <td>0</td>\n",
       "      <td>0</td>\n",
       "      <td>0</td>\n",
       "      <td>NaN</td>\n",
       "      <td>NaN</td>\n",
       "      <td>NaN</td>\n",
       "      <td>NaN</td>\n",
       "      <td>NaN</td>\n",
       "      <td>NaN</td>\n",
       "    </tr>\n",
       "    <tr>\n",
       "      <th>...</th>\n",
       "      <td>...</td>\n",
       "      <td>...</td>\n",
       "      <td>...</td>\n",
       "      <td>...</td>\n",
       "      <td>...</td>\n",
       "      <td>...</td>\n",
       "      <td>...</td>\n",
       "      <td>...</td>\n",
       "      <td>...</td>\n",
       "      <td>...</td>\n",
       "      <td>...</td>\n",
       "      <td>...</td>\n",
       "      <td>...</td>\n",
       "      <td>...</td>\n",
       "      <td>...</td>\n",
       "      <td>...</td>\n",
       "      <td>...</td>\n",
       "      <td>...</td>\n",
       "      <td>...</td>\n",
       "      <td>...</td>\n",
       "      <td>...</td>\n",
       "    </tr>\n",
       "    <tr>\n",
       "      <th>48739</th>\n",
       "      <td>456221</td>\n",
       "      <td>Cash loans</td>\n",
       "      <td>F</td>\n",
       "      <td>N</td>\n",
       "      <td>Y</td>\n",
       "      <td>0</td>\n",
       "      <td>121500.0</td>\n",
       "      <td>412560.0</td>\n",
       "      <td>17473.5</td>\n",
       "      <td>270000.0</td>\n",
       "      <td>...</td>\n",
       "      <td>0</td>\n",
       "      <td>0</td>\n",
       "      <td>0</td>\n",
       "      <td>0</td>\n",
       "      <td>0.0</td>\n",
       "      <td>0.0</td>\n",
       "      <td>0.0</td>\n",
       "      <td>0.0</td>\n",
       "      <td>0.0</td>\n",
       "      <td>1.0</td>\n",
       "    </tr>\n",
       "    <tr>\n",
       "      <th>48740</th>\n",
       "      <td>456222</td>\n",
       "      <td>Cash loans</td>\n",
       "      <td>F</td>\n",
       "      <td>N</td>\n",
       "      <td>N</td>\n",
       "      <td>2</td>\n",
       "      <td>157500.0</td>\n",
       "      <td>622413.0</td>\n",
       "      <td>31909.5</td>\n",
       "      <td>495000.0</td>\n",
       "      <td>...</td>\n",
       "      <td>0</td>\n",
       "      <td>0</td>\n",
       "      <td>0</td>\n",
       "      <td>0</td>\n",
       "      <td>NaN</td>\n",
       "      <td>NaN</td>\n",
       "      <td>NaN</td>\n",
       "      <td>NaN</td>\n",
       "      <td>NaN</td>\n",
       "      <td>NaN</td>\n",
       "    </tr>\n",
       "    <tr>\n",
       "      <th>48741</th>\n",
       "      <td>456223</td>\n",
       "      <td>Cash loans</td>\n",
       "      <td>F</td>\n",
       "      <td>Y</td>\n",
       "      <td>Y</td>\n",
       "      <td>1</td>\n",
       "      <td>202500.0</td>\n",
       "      <td>315000.0</td>\n",
       "      <td>33205.5</td>\n",
       "      <td>315000.0</td>\n",
       "      <td>...</td>\n",
       "      <td>0</td>\n",
       "      <td>0</td>\n",
       "      <td>0</td>\n",
       "      <td>0</td>\n",
       "      <td>0.0</td>\n",
       "      <td>0.0</td>\n",
       "      <td>0.0</td>\n",
       "      <td>0.0</td>\n",
       "      <td>3.0</td>\n",
       "      <td>1.0</td>\n",
       "    </tr>\n",
       "    <tr>\n",
       "      <th>48742</th>\n",
       "      <td>456224</td>\n",
       "      <td>Cash loans</td>\n",
       "      <td>M</td>\n",
       "      <td>N</td>\n",
       "      <td>N</td>\n",
       "      <td>0</td>\n",
       "      <td>225000.0</td>\n",
       "      <td>450000.0</td>\n",
       "      <td>25128.0</td>\n",
       "      <td>450000.0</td>\n",
       "      <td>...</td>\n",
       "      <td>0</td>\n",
       "      <td>0</td>\n",
       "      <td>0</td>\n",
       "      <td>0</td>\n",
       "      <td>0.0</td>\n",
       "      <td>0.0</td>\n",
       "      <td>0.0</td>\n",
       "      <td>0.0</td>\n",
       "      <td>0.0</td>\n",
       "      <td>2.0</td>\n",
       "    </tr>\n",
       "    <tr>\n",
       "      <th>48743</th>\n",
       "      <td>456250</td>\n",
       "      <td>Cash loans</td>\n",
       "      <td>F</td>\n",
       "      <td>Y</td>\n",
       "      <td>N</td>\n",
       "      <td>0</td>\n",
       "      <td>135000.0</td>\n",
       "      <td>312768.0</td>\n",
       "      <td>24709.5</td>\n",
       "      <td>270000.0</td>\n",
       "      <td>...</td>\n",
       "      <td>0</td>\n",
       "      <td>0</td>\n",
       "      <td>0</td>\n",
       "      <td>0</td>\n",
       "      <td>0.0</td>\n",
       "      <td>0.0</td>\n",
       "      <td>0.0</td>\n",
       "      <td>0.0</td>\n",
       "      <td>1.0</td>\n",
       "      <td>4.0</td>\n",
       "    </tr>\n",
       "  </tbody>\n",
       "</table>\n",
       "<p>48744 rows × 121 columns</p>\n",
       "</div>"
      ],
      "text/plain": [
       "       SK_ID_CURR NAME_CONTRACT_TYPE CODE_GENDER FLAG_OWN_CAR FLAG_OWN_REALTY  \\\n",
       "0          100001         Cash loans           F            N               Y   \n",
       "1          100005         Cash loans           M            N               Y   \n",
       "2          100013         Cash loans           M            Y               Y   \n",
       "3          100028         Cash loans           F            N               Y   \n",
       "4          100038         Cash loans           M            Y               N   \n",
       "...           ...                ...         ...          ...             ...   \n",
       "48739      456221         Cash loans           F            N               Y   \n",
       "48740      456222         Cash loans           F            N               N   \n",
       "48741      456223         Cash loans           F            Y               Y   \n",
       "48742      456224         Cash loans           M            N               N   \n",
       "48743      456250         Cash loans           F            Y               N   \n",
       "\n",
       "       CNT_CHILDREN  AMT_INCOME_TOTAL  AMT_CREDIT  AMT_ANNUITY  \\\n",
       "0                 0          135000.0    568800.0      20560.5   \n",
       "1                 0           99000.0    222768.0      17370.0   \n",
       "2                 0          202500.0    663264.0      69777.0   \n",
       "3                 2          315000.0   1575000.0      49018.5   \n",
       "4                 1          180000.0    625500.0      32067.0   \n",
       "...             ...               ...         ...          ...   \n",
       "48739             0          121500.0    412560.0      17473.5   \n",
       "48740             2          157500.0    622413.0      31909.5   \n",
       "48741             1          202500.0    315000.0      33205.5   \n",
       "48742             0          225000.0    450000.0      25128.0   \n",
       "48743             0          135000.0    312768.0      24709.5   \n",
       "\n",
       "       AMT_GOODS_PRICE  ... FLAG_DOCUMENT_18 FLAG_DOCUMENT_19  \\\n",
       "0             450000.0  ...                0                0   \n",
       "1             180000.0  ...                0                0   \n",
       "2             630000.0  ...                0                0   \n",
       "3            1575000.0  ...                0                0   \n",
       "4             625500.0  ...                0                0   \n",
       "...                ...  ...              ...              ...   \n",
       "48739         270000.0  ...                0                0   \n",
       "48740         495000.0  ...                0                0   \n",
       "48741         315000.0  ...                0                0   \n",
       "48742         450000.0  ...                0                0   \n",
       "48743         270000.0  ...                0                0   \n",
       "\n",
       "      FLAG_DOCUMENT_20 FLAG_DOCUMENT_21 AMT_REQ_CREDIT_BUREAU_HOUR  \\\n",
       "0                    0                0                        0.0   \n",
       "1                    0                0                        0.0   \n",
       "2                    0                0                        0.0   \n",
       "3                    0                0                        0.0   \n",
       "4                    0                0                        NaN   \n",
       "...                ...              ...                        ...   \n",
       "48739                0                0                        0.0   \n",
       "48740                0                0                        NaN   \n",
       "48741                0                0                        0.0   \n",
       "48742                0                0                        0.0   \n",
       "48743                0                0                        0.0   \n",
       "\n",
       "       AMT_REQ_CREDIT_BUREAU_DAY  AMT_REQ_CREDIT_BUREAU_WEEK  \\\n",
       "0                            0.0                         0.0   \n",
       "1                            0.0                         0.0   \n",
       "2                            0.0                         0.0   \n",
       "3                            0.0                         0.0   \n",
       "4                            NaN                         NaN   \n",
       "...                          ...                         ...   \n",
       "48739                        0.0                         0.0   \n",
       "48740                        NaN                         NaN   \n",
       "48741                        0.0                         0.0   \n",
       "48742                        0.0                         0.0   \n",
       "48743                        0.0                         0.0   \n",
       "\n",
       "       AMT_REQ_CREDIT_BUREAU_MON  AMT_REQ_CREDIT_BUREAU_QRT  \\\n",
       "0                            0.0                        0.0   \n",
       "1                            0.0                        0.0   \n",
       "2                            0.0                        1.0   \n",
       "3                            0.0                        0.0   \n",
       "4                            NaN                        NaN   \n",
       "...                          ...                        ...   \n",
       "48739                        0.0                        0.0   \n",
       "48740                        NaN                        NaN   \n",
       "48741                        0.0                        3.0   \n",
       "48742                        0.0                        0.0   \n",
       "48743                        0.0                        1.0   \n",
       "\n",
       "       AMT_REQ_CREDIT_BUREAU_YEAR  \n",
       "0                             0.0  \n",
       "1                             3.0  \n",
       "2                             4.0  \n",
       "3                             3.0  \n",
       "4                             NaN  \n",
       "...                           ...  \n",
       "48739                         1.0  \n",
       "48740                         NaN  \n",
       "48741                         1.0  \n",
       "48742                         2.0  \n",
       "48743                         4.0  \n",
       "\n",
       "[48744 rows x 121 columns]"
      ]
     },
     "execution_count": 256,
     "metadata": {},
     "output_type": "execute_result"
    }
   ],
   "source": [
    "app_train = pd.read_csv(\"./resources/application_train.csv\", encoding='utf-8', sep=',')\n",
    "app_test = pd.read_csv(\"./resources/application_test.csv\", encoding='utf-8', sep=',')\n",
    "app_train.drop_duplicates()\n",
    "app_test.drop_duplicates()"
   ]
  },
  {
   "cell_type": "markdown",
   "id": "6d47ad3b",
   "metadata": {},
   "source": [
    "## Aligning the two datasets"
   ]
  },
  {
   "cell_type": "code",
   "execution_count": 257,
   "id": "19ab2ab5",
   "metadata": {
    "scrolled": true
   },
   "outputs": [
    {
     "name": "stdout",
     "output_type": "stream",
     "text": [
      "Training Features shape:  (307511, 122)\n",
      "Testing Features shape:  (48744, 121)\n"
     ]
    }
   ],
   "source": [
    "train_labels = app_train['TARGET']\n",
    "app_train, app_test = app_train.align(app_test, join = 'inner', axis = 1)\n",
    "app_train['TARGET'] = train_labels\n",
    "print('Training Features shape: ', app_train.shape)\n",
    "print('Testing Features shape: ', app_test.shape)"
   ]
  },
  {
   "cell_type": "markdown",
   "id": "3e73cd42",
   "metadata": {},
   "source": [
    "# Data Analysis"
   ]
  },
  {
   "cell_type": "code",
   "execution_count": 258,
   "id": "3457fb1e",
   "metadata": {
    "scrolled": true
   },
   "outputs": [
    {
     "data": {
      "text/plain": [
       "float64    65\n",
       "int64      41\n",
       "object     16\n",
       "dtype: int64"
      ]
     },
     "execution_count": 258,
     "metadata": {},
     "output_type": "execute_result"
    }
   ],
   "source": [
    "app_train.dtypes.value_counts()"
   ]
  },
  {
   "cell_type": "markdown",
   "id": "aeb3f699",
   "metadata": {},
   "source": [
    "## Is data unbalanced ? "
   ]
  },
  {
   "cell_type": "code",
   "execution_count": 259,
   "id": "4065f172",
   "metadata": {
    "scrolled": true
   },
   "outputs": [
    {
     "data": {
      "image/png": "[encoded data removed]",
      "text/plain": [
       "<Figure size 432x288 with 1 Axes>"
      ]
     },
     "metadata": {
      "needs_background": "light"
     },
     "output_type": "display_data"
    }
   ],
   "source": [
    "fig = sns.countplot(x=\"TARGET\", data=app_train)\n",
    "plt.title('Balance of target')\n",
    "plt.show()"
   ]
  },
  {
   "cell_type": "code",
   "execution_count": 260,
   "id": "6f995c7d",
   "metadata": {},
   "outputs": [
    {
     "name": "stdout",
     "output_type": "stream",
     "text": [
      "Unbalanced data on the TARGET column:\n",
      "0    282686\n",
      "1     24825\n",
      "Name: TARGET, dtype: int64\n"
     ]
    }
   ],
   "source": [
    "print(\"Unbalanced data on the TARGET column:\")\n",
    "print(app_train['TARGET'].value_counts())"
   ]
  },
  {
   "cell_type": "markdown",
   "id": "d9040755",
   "metadata": {},
   "source": [
    "The data is very unbalanced."
   ]
  },
  {
   "cell_type": "markdown",
   "id": "4d0b543e",
   "metadata": {},
   "source": [
    "## Handling unbalanced data"
   ]
  },
  {
   "cell_type": "code",
   "execution_count": 261,
   "id": "e2c57355",
   "metadata": {},
   "outputs": [
    {
     "name": "stdout",
     "output_type": "stream",
     "text": [
      "Balanced data after oversampling:\n",
      "\n",
      "1    282686\n",
      "0    282686\n",
      "Name: TARGET, dtype: int64\n"
     ]
    }
   ],
   "source": [
    "msk = app_train['TARGET'] == 1\n",
    "num_to_oversample = len(app_train) - 2*msk.sum()\n",
    "df_positive_oversample = app_train[msk].sample(n=num_to_oversample, replace=True)\n",
    "df_train_oversample = pd.concat([app_train, df_positive_oversample])\n",
    "app_train = df_train_oversample\n",
    "print(\"Balanced data after oversampling:\\n\")\n",
    "print(app_train['TARGET'].value_counts())"
   ]
  },
  {
   "cell_type": "code",
   "execution_count": 262,
   "id": "19cffa4d",
   "metadata": {},
   "outputs": [
    {
     "data": {
      "image/png": "[encoded data removed]",
      "text/plain": [
       "<Figure size 432x288 with 1 Axes>"
      ]
     },
     "metadata": {
      "needs_background": "light"
     },
     "output_type": "display_data"
    }
   ],
   "source": [
    "fig = sns.countplot(x=\"TARGET\", data=app_train)\n",
    "plt.title('Balance of target')\n",
    "plt.show()"
   ]
  },
  {
   "cell_type": "markdown",
   "id": "7b2d5e23",
   "metadata": {},
   "source": [
    "## Gender distribution"
   ]
  },
  {
   "cell_type": "code",
   "execution_count": 263,
   "id": "342d4297",
   "metadata": {},
   "outputs": [
    {
     "data": {
      "image/png": "[encoded data removed]",
      "text/plain": [
       "<Figure size 432x288 with 1 Axes>"
      ]
     },
     "metadata": {},
     "output_type": "display_data"
    }
   ],
   "source": [
    "gender_group = app_train.groupby(['CODE_GENDER'])\n",
    "gender_group.size().plot(kind='pie', \n",
    "                         ylabel='Gender', \n",
    "                         colors=['pink', 'steelblue', 'pink'], \n",
    "                         title='Gender distribution',\n",
    "                         autopct='%.0f%%')\n",
    "plt.show()"
   ]
  },
  {
   "cell_type": "markdown",
   "id": "399a01a8",
   "metadata": {},
   "source": [
    "### Contract type distribution"
   ]
  },
  {
   "cell_type": "code",
   "execution_count": 264,
   "id": "4ca938d5",
   "metadata": {},
   "outputs": [
    {
     "data": {
      "image/png": "[encoded data removed]",
      "text/plain": [
       "<Figure size 432x288 with 1 Axes>"
      ]
     },
     "metadata": {},
     "output_type": "display_data"
    }
   ],
   "source": [
    "contract_group = app_train.groupby(['NAME_CONTRACT_TYPE'])\n",
    "contract_group.size().plot(kind='pie', \n",
    "                           ylabel='', \n",
    "                           colors=['green', 'steelblue'], \n",
    "                           title='Contract type distribution',\n",
    "                           autopct='%.0f%%')\n",
    "plt.show()"
   ]
  },
  {
   "cell_type": "markdown",
   "id": "3876969f",
   "metadata": {},
   "source": [
    "## Days Birth feature"
   ]
  },
  {
   "cell_type": "markdown",
   "id": "6fcc54fd",
   "metadata": {},
   "source": [
    "### Informations"
   ]
  },
  {
   "cell_type": "code",
   "execution_count": 265,
   "id": "c4a2db04",
   "metadata": {},
   "outputs": [
    {
     "data": {
      "text/plain": [
       "count    565372.000000\n",
       "mean         42.486256\n",
       "std          11.854091\n",
       "min          20.517808\n",
       "25%          32.495890\n",
       "50%          41.246575\n",
       "75%          52.098630\n",
       "max          69.120548\n",
       "Name: DAYS_BIRTH, dtype: float64"
      ]
     },
     "execution_count": 265,
     "metadata": {},
     "output_type": "execute_result"
    }
   ],
   "source": [
    "(app_train['DAYS_BIRTH'] / -365).describe()"
   ]
  },
  {
   "cell_type": "markdown",
   "id": "1f0593cb",
   "metadata": {},
   "source": [
    "### Minimum and maximum value"
   ]
  },
  {
   "cell_type": "code",
   "execution_count": 266,
   "id": "894c133c",
   "metadata": {},
   "outputs": [
    {
     "name": "stdout",
     "output_type": "stream",
     "text": [
      "Days birth min : 20.517808219178082 days\n",
      "Days birth max : 69.12054794520547 years\n"
     ]
    }
   ],
   "source": [
    "mini = abs(app_train['DAYS_BIRTH'].max())\n",
    "if mini > 365:\n",
    "    print(\"Days birth min :\", mini/365, \"days\" )\n",
    "else:\n",
    "    print(\"Days birth min :\", mini, \"days\" )\n",
    "    \n",
    "maxi = abs(app_train['DAYS_BIRTH'].min())\n",
    "print(\"Days birth max :\", maxi/365, \"years\" )"
   ]
  },
  {
   "cell_type": "markdown",
   "id": "71653bbd",
   "metadata": {},
   "source": [
    "### Boxplots"
   ]
  },
  {
   "cell_type": "code",
   "execution_count": 267,
   "id": "fd0eb95f",
   "metadata": {},
   "outputs": [
    {
     "data": {
      "image/png": "[encoded data removed]",
      "text/plain": [
       "<Figure size 432x288 with 1 Axes>"
      ]
     },
     "metadata": {
      "needs_background": "light"
     },
     "output_type": "display_data"
    }
   ],
   "source": [
    "ax = sns.boxplot(x=abs(app_train['DAYS_BIRTH']))\n",
    "plt.title('Boxplot of Days Birth before cleaning')\n",
    "plt.show()"
   ]
  },
  {
   "cell_type": "markdown",
   "id": "b7cfd95e",
   "metadata": {},
   "source": [
    "## Missing values"
   ]
  },
  {
   "cell_type": "code",
   "execution_count": 268,
   "id": "01297194",
   "metadata": {
    "scrolled": true
   },
   "outputs": [
    {
     "name": "stdout",
     "output_type": "stream",
     "text": [
      "30 first columns filled with the most NaN values with their percentage:\n"
     ]
    },
    {
     "data": {
      "text/plain": [
       "COMMONAREA_MODE             71.856937\n",
       "COMMONAREA_AVG              71.856937\n",
       "COMMONAREA_MEDI             71.856937\n",
       "NONLIVINGAPARTMENTS_MEDI    71.450655\n",
       "NONLIVINGAPARTMENTS_AVG     71.450655\n",
       "NONLIVINGAPARTMENTS_MODE    71.450655\n",
       "FONDKAPREMONT_MODE          70.493940\n",
       "LIVINGAPARTMENTS_MEDI       70.488103\n",
       "LIVINGAPARTMENTS_AVG        70.488103\n",
       "LIVINGAPARTMENTS_MODE       70.488103\n",
       "FLOORSMIN_MEDI              70.015848\n",
       "FLOORSMIN_AVG               70.015848\n",
       "FLOORSMIN_MODE              70.015848\n",
       "YEARS_BUILD_AVG             68.799658\n",
       "YEARS_BUILD_MEDI            68.799658\n",
       "YEARS_BUILD_MODE            68.799658\n",
       "OWN_CAR_AGE                 67.595318\n",
       "LANDAREA_AVG                61.919586\n",
       "LANDAREA_MODE               61.919586\n",
       "LANDAREA_MEDI               61.919586\n",
       "BASEMENTAREA_MODE           61.312552\n",
       "BASEMENTAREA_MEDI           61.312552\n",
       "BASEMENTAREA_AVG            61.312552\n",
       "NONLIVINGAREA_AVG           58.217245\n",
       "NONLIVINGAREA_MODE          58.217245\n",
       "NONLIVINGAREA_MEDI          58.217245\n",
       "EXT_SOURCE_1                57.765683\n",
       "ELEVATORS_MODE              56.389245\n",
       "ELEVATORS_MEDI              56.389245\n",
       "ELEVATORS_AVG               56.389245\n",
       "dtype: float64"
      ]
     },
     "execution_count": 268,
     "metadata": {},
     "output_type": "execute_result"
    }
   ],
   "source": [
    "print(\"30 first columns filled with the most NaN values with their percentage:\")\n",
    "((app_train.isnull().sum()/app_train.shape[0])*100).sort_values(ascending=False).head(30)"
   ]
  },
  {
   "cell_type": "markdown",
   "id": "400b3cf1",
   "metadata": {},
   "source": [
    "# Data cleanup "
   ]
  },
  {
   "cell_type": "markdown",
   "id": "2c82536b",
   "metadata": {},
   "source": [
    "## Label encoding"
   ]
  },
  {
   "cell_type": "code",
   "execution_count": 269,
   "id": "698acab3",
   "metadata": {
    "scrolled": false
   },
   "outputs": [
    {
     "name": "stdout",
     "output_type": "stream",
     "text": [
      "NAME_CONTRACT_TYPE\n",
      "CODE_GENDER\n",
      "FLAG_OWN_CAR\n",
      "FLAG_OWN_REALTY\n",
      "NAME_TYPE_SUITE\n",
      "NAME_INCOME_TYPE\n",
      "NAME_EDUCATION_TYPE\n",
      "NAME_FAMILY_STATUS\n",
      "NAME_HOUSING_TYPE\n",
      "OCCUPATION_TYPE\n",
      "WEEKDAY_APPR_PROCESS_START\n",
      "ORGANIZATION_TYPE\n",
      "FONDKAPREMONT_MODE\n",
      "HOUSETYPE_MODE\n",
      "WALLSMATERIAL_MODE\n",
      "EMERGENCYSTATE_MODE\n",
      "16 columns were label encoded.\n"
     ]
    }
   ],
   "source": [
    "le = LabelEncoder()\n",
    "le_count = 0\n",
    "\n",
    "for col in app_train:\n",
    "    if app_train[col].dtype == 'object':\n",
    "        le.fit(app_train[col])\n",
    "        app_train[col] = le.transform(app_train[col])\n",
    "        app_test[col] = le.transform(app_test[col])\n",
    "        le_count += 1\n",
    "        print(col)\n",
    "app_train.reset_index()\n",
    "app_test.reset_index()\n",
    "print('%d columns were label encoded.' % le_count)"
   ]
  },
  {
   "cell_type": "markdown",
   "id": "ae495b84",
   "metadata": {},
   "source": [
    "## Missing and infinite values"
   ]
  },
  {
   "cell_type": "code",
   "execution_count": 270,
   "id": "65e181bb",
   "metadata": {
    "scrolled": true
   },
   "outputs": [],
   "source": [
    "# Replacing Infinite values with NaN values\n",
    "app_train.replace([np.inf, -np.inf], np.nan, inplace=True)\n",
    "app_test.replace([np.inf, -np.inf], np.nan, inplace=True)"
   ]
  },
  {
   "cell_type": "code",
   "execution_count": 271,
   "id": "5bcd085c",
   "metadata": {},
   "outputs": [],
   "source": [
    "imputer = SimpleImputer(missing_values=np.nan, strategy=\"median\").fit(app_train)\n",
    "imputer = imputer.fit_transform(app_train)\n",
    "app_train = pd.DataFrame(imputer, columns = app_train.columns.values.tolist())"
   ]
  },
  {
   "cell_type": "code",
   "execution_count": 272,
   "id": "5fae26ae",
   "metadata": {},
   "outputs": [],
   "source": [
    "imputer = SimpleImputer(missing_values=np.nan, strategy=\"median\").fit(app_test)\n",
    "imputer = imputer.fit_transform(app_test)\n",
    "app_test = pd.DataFrame(imputer, columns = app_test.columns.values.tolist())"
   ]
  },
  {
   "cell_type": "markdown",
   "id": "7e9d4d8e",
   "metadata": {},
   "source": [
    "## Days Employed feature"
   ]
  },
  {
   "cell_type": "markdown",
   "id": "77d3fd69",
   "metadata": {},
   "source": [
    "### Informations "
   ]
  },
  {
   "cell_type": "code",
   "execution_count": 273,
   "id": "0b999543",
   "metadata": {},
   "outputs": [
    {
     "data": {
      "text/plain": [
       "count    565372.000000\n",
       "mean      54002.683205\n",
       "std      132168.353143\n",
       "min      -17912.000000\n",
       "25%       -2466.000000\n",
       "50%       -1119.000000\n",
       "75%        -337.000000\n",
       "max      365243.000000\n",
       "Name: DAYS_EMPLOYED, dtype: float64"
      ]
     },
     "execution_count": 273,
     "metadata": {},
     "output_type": "execute_result"
    }
   ],
   "source": [
    "app_train['DAYS_EMPLOYED'].describe()"
   ]
  },
  {
   "cell_type": "markdown",
   "id": "c693ce5e",
   "metadata": {},
   "source": [
    "### Minimum and maximum values"
   ]
  },
  {
   "cell_type": "code",
   "execution_count": 274,
   "id": "7bdbb336",
   "metadata": {},
   "outputs": [
    {
     "name": "stdout",
     "output_type": "stream",
     "text": [
      "Days employed min : 1000.6657534246575 years\n",
      "Days employed max : 49.07397260273972 years\n"
     ]
    }
   ],
   "source": [
    "mini = abs(app_train['DAYS_EMPLOYED'].max())\n",
    "if mini > 365:\n",
    "    print(\"Days employed min :\", mini/365, \"years\" )\n",
    "else:\n",
    "    print(\"Days employed min :\", mini, \"days\" )\n",
    "    \n",
    "maxi = abs(app_train['DAYS_EMPLOYED'].min())\n",
    "print(\"Days employed max :\", maxi/365, \"years\" )"
   ]
  },
  {
   "cell_type": "markdown",
   "id": "cd0635d9",
   "metadata": {},
   "source": [
    "We can see an anomaly : the biggest 'Days Employed' value is around 1000 years !"
   ]
  },
  {
   "cell_type": "markdown",
   "id": "ba61f283",
   "metadata": {},
   "source": [
    "### Boxplots"
   ]
  },
  {
   "cell_type": "code",
   "execution_count": 275,
   "id": "fd3f8e60",
   "metadata": {},
   "outputs": [
    {
     "data": {
      "image/png": "[encoded data removed]",
      "text/plain": [
       "<Figure size 432x288 with 1 Axes>"
      ]
     },
     "metadata": {
      "needs_background": "light"
     },
     "output_type": "display_data"
    }
   ],
   "source": [
    "ax = sns.boxplot(x=app_train['DAYS_EMPLOYED'])\n",
    "plt.title('Boxplot of Days Employed before cleaning')\n",
    "plt.show()"
   ]
  },
  {
   "cell_type": "markdown",
   "id": "1864b378",
   "metadata": {},
   "source": [
    "### Removing anomalies"
   ]
  },
  {
   "cell_type": "code",
   "execution_count": 276,
   "id": "b9f37cbc",
   "metadata": {},
   "outputs": [],
   "source": [
    "app_train.drop(app_train.index[(app_train[\"DAYS_EMPLOYED\"] > 12000)], axis=0, inplace=True)\n",
    "app_test.drop(app_test.index[(app_test[\"DAYS_EMPLOYED\"] > 12000)], axis=0, inplace=True)"
   ]
  },
  {
   "cell_type": "code",
   "execution_count": 277,
   "id": "240570fa",
   "metadata": {},
   "outputs": [
    {
     "data": {
      "image/png": "[encoded data removed]",
      "text/plain": [
       "<Figure size 432x288 with 1 Axes>"
      ]
     },
     "metadata": {
      "needs_background": "light"
     },
     "output_type": "display_data"
    }
   ],
   "source": [
    "ax = sns.boxplot(x=abs(app_train['DAYS_EMPLOYED']))\n",
    "plt.title('Boxplot of Days Employed after cleaning')\n",
    "plt.show()"
   ]
  },
  {
   "cell_type": "markdown",
   "id": "b338c4c5",
   "metadata": {},
   "source": [
    "# Making our model"
   ]
  },
  {
   "cell_type": "markdown",
   "id": "59601e5a",
   "metadata": {},
   "source": [
    "## Correlations"
   ]
  },
  {
   "cell_type": "code",
   "execution_count": 278,
   "id": "7e884753",
   "metadata": {
    "scrolled": true
   },
   "outputs": [
    {
     "name": "stdout",
     "output_type": "stream",
     "text": [
      "Most Positive Correlations:\n",
      "\n",
      "REG_CITY_NOT_LIVE_CITY         0.069928\n",
      "DAYS_ID_PUBLISH                0.071422\n",
      "WALLSMATERIAL_MODE             0.073409\n",
      "FLAG_DOCUMENT_3                0.076917\n",
      "HOUSETYPE_MODE                 0.077204\n",
      "REG_CITY_NOT_WORK_CITY         0.078279\n",
      "EMERGENCYSTATE_MODE            0.080237\n",
      "CODE_GENDER                    0.086966\n",
      "DAYS_LAST_PHONE_CHANGE         0.111275\n",
      "REGION_RATING_CLIENT           0.115982\n",
      "DAYS_BIRTH                     0.119383\n",
      "REGION_RATING_CLIENT_W_CITY    0.120228\n",
      "NAME_EDUCATION_TYPE            0.122877\n",
      "DAYS_EMPLOYED                  0.147664\n",
      "TARGET                         1.000000\n",
      "Name: TARGET, dtype: float64\n",
      "\n",
      "Most Negative Correlations:\n",
      "\n",
      "EXT_SOURCE_2                 -0.275808\n",
      "EXT_SOURCE_3                 -0.269350\n",
      "EXT_SOURCE_1                 -0.193669\n",
      "AMT_GOODS_PRICE              -0.097030\n",
      "FLOORSMAX_AVG                -0.083391\n",
      "FLOORSMAX_MEDI               -0.082883\n",
      "FLOORSMAX_MODE               -0.081037\n",
      "REGION_POPULATION_RELATIVE   -0.078600\n",
      "AMT_CREDIT                   -0.077906\n",
      "ELEVATORS_AVG                -0.076906\n",
      "ELEVATORS_MEDI               -0.076220\n",
      "ELEVATORS_MODE               -0.073285\n",
      "NAME_CONTRACT_TYPE           -0.070173\n",
      "TOTALAREA_MODE               -0.066208\n",
      "LIVINGAREA_AVG               -0.065582\n",
      "Name: TARGET, dtype: float64\n"
     ]
    }
   ],
   "source": [
    "correlations = app_train.corr()['TARGET'].sort_values()\n",
    "\n",
    "print('Most Positive Correlations:\\n')\n",
    "print(correlations.tail(15))\n",
    "print('\\nMost Negative Correlations:\\n')\n",
    "print(correlations.head(15))"
   ]
  },
  {
   "cell_type": "markdown",
   "id": "4572c27f",
   "metadata": {},
   "source": [
    "# Splitting data into train and validation"
   ]
  },
  {
   "cell_type": "code",
   "execution_count": 279,
   "id": "a7e5cca4",
   "metadata": {},
   "outputs": [],
   "source": [
    "Xdf = app_train\n",
    "Xdf.drop(\"TARGET\", axis = 1)\n",
    "X = np.array(Xdf)\n",
    "\n",
    "y = np.array(app_train[\"TARGET\"])"
   ]
  },
  {
   "cell_type": "code",
   "execution_count": 280,
   "id": "b68f9c80",
   "metadata": {},
   "outputs": [],
   "source": [
    "# Recommended test sizes for crossvalidation : [20, 25, 30]\n",
    "X_train, X_test, y_train, y_test = train_test_split(X, y, test_size = 0.25, stratify=y)"
   ]
  },
  {
   "cell_type": "markdown",
   "id": "cb253f14",
   "metadata": {},
   "source": [
    "# Logistic regression"
   ]
  },
  {
   "cell_type": "markdown",
   "id": "b4fb3eeb",
   "metadata": {},
   "source": [
    "Our problem is a very binary one : will someone repay their credit or won't they ? \n",
    "\n",
    "This is why we use logistic regression as our machine learning model."
   ]
  },
  {
   "cell_type": "markdown",
   "id": "da898c3e",
   "metadata": {},
   "source": [
    "## Model training"
   ]
  },
  {
   "cell_type": "code",
   "execution_count": 281,
   "id": "dcffd120",
   "metadata": {},
   "outputs": [
    {
     "data": {
      "text/plain": [
       "LogisticRegression()"
      ]
     },
     "execution_count": 281,
     "metadata": {},
     "output_type": "execute_result"
    }
   ],
   "source": [
    "model = LogisticRegression()\n",
    "model.fit(X_train, y_train)"
   ]
  },
  {
   "cell_type": "markdown",
   "id": "6385e818",
   "metadata": {},
   "source": [
    "## Model testing"
   ]
  },
  {
   "cell_type": "code",
   "execution_count": 282,
   "id": "b28586f8",
   "metadata": {},
   "outputs": [
    {
     "name": "stdout",
     "output_type": "stream",
     "text": [
      "Predictions:\n",
      "\n",
      " [0. 0. 0. ... 1. 0. 1.] \n",
      "\n",
      "Real values:\n",
      "\n",
      " [0. 1. 1. ... 0. 0. 1.]\n"
     ]
    }
   ],
   "source": [
    "y_pred = model.predict(X_test)\n",
    "print(\"Predictions:\\n\\n\", y_pred, '\\n')\n",
    "print(\"Real values:\\n\\n\", y_test)"
   ]
  },
  {
   "cell_type": "markdown",
   "id": "b81ba094",
   "metadata": {},
   "source": [
    "## Model evaluation"
   ]
  },
  {
   "cell_type": "markdown",
   "id": "0230e10c",
   "metadata": {},
   "source": [
    "### Confusion Matrix"
   ]
  },
  {
   "cell_type": "code",
   "execution_count": 283,
   "id": "9f5acda5",
   "metadata": {},
   "outputs": [
    {
     "data": {
      "image/png": "[encoded data removed]",
      "text/plain": [
       "<Figure size 360x360 with 1 Axes>"
      ]
     },
     "metadata": {
      "needs_background": "light"
     },
     "output_type": "display_data"
    },
    {
     "name": "stdout",
     "output_type": "stream",
     "text": [
      "The confusion matrix shows us the number of :\n",
      "\n",
      "* True positives : 27560 \n",
      "\n",
      "* True negatives : 30015 \n",
      "\n",
      "* False positives: 19421 \n",
      "\n",
      "* False negatives: 42757 \n",
      "\n"
     ]
    }
   ],
   "source": [
    "conf_matrix = metrics.confusion_matrix(y_test, y_pred)\n",
    "\n",
    "fig, ax = plt.subplots(figsize=(5, 5))\n",
    "ax.matshow(conf_matrix, cmap=plt.cm.Oranges, alpha=0.3)\n",
    "for i in range(conf_matrix.shape[0]):\n",
    "    for j in range(conf_matrix.shape[1]):\n",
    "        ax.text(x=j, y=i,s=conf_matrix[i, j], va='center', ha='center', size='xx-large')\n",
    "plt.xlabel('Predictions', fontsize=18)\n",
    "plt.ylabel('Actuals', fontsize=18)\n",
    "plt.title('Confusion Matrix', fontsize=18)\n",
    "plt.show()\n",
    "\n",
    "print('The confusion matrix shows us the number of :\\n')\n",
    "print('* True positives :', conf_matrix[0][0] ,'\\n')\n",
    "print('* True negatives :', conf_matrix[0][1],'\\n')\n",
    "print('* False positives:',conf_matrix[1][0] ,'\\n')\n",
    "print('* False negatives:',conf_matrix[1][1] ,'\\n')"
   ]
  },
  {
   "cell_type": "markdown",
   "id": "4cf7b485",
   "metadata": {},
   "source": [
    "### Classification Report"
   ]
  },
  {
   "cell_type": "code",
   "execution_count": 284,
   "id": "9da72ee6",
   "metadata": {},
   "outputs": [
    {
     "name": "stdout",
     "output_type": "stream",
     "text": [
      "              precision    recall  f1-score   support\n",
      "\n",
      "         0.0       0.59      0.48      0.53     57575\n",
      "         1.0       0.59      0.69      0.63     62178\n",
      "\n",
      "    accuracy                           0.59    119753\n",
      "   macro avg       0.59      0.58      0.58    119753\n",
      "weighted avg       0.59      0.59      0.58    119753\n",
      "\n"
     ]
    }
   ],
   "source": [
    "print(classification_report(y_test, y_pred))"
   ]
  },
  {
   "cell_type": "markdown",
   "id": "d986d67f",
   "metadata": {},
   "source": [
    "### Accuracy Score"
   ]
  },
  {
   "cell_type": "code",
   "execution_count": 285,
   "id": "04edbdb7",
   "metadata": {},
   "outputs": [
    {
     "name": "stdout",
     "output_type": "stream",
     "text": [
      "Accuracy score: 58.72 %\n",
      "\n",
      "Accuracy score using cross validation: 58.9 %\n",
      "\n"
     ]
    }
   ],
   "source": [
    "print(\"Accuracy score:\", round((accuracy_score(y_test, y_pred)*100), 2), '%\\n')\n",
    "print(\"Accuracy score using cross validation:\", \n",
    "      round((cross_val_score(model, X_train, y_train, cv=3, scoring='accuracy').mean())*100, 2), '%\\n')"
   ]
  },
  {
   "cell_type": "markdown",
   "id": "2a748f37",
   "metadata": {},
   "source": [
    "Model accuracy is a machine learning model performance metric that is defined as the ratio of true positives and true negatives to all positive and negative observations.\n",
    "\n",
    "The accuracy rate is great but it doesn’t tell us anything about the errors our machine learning models make on new data we haven’t seen before.\n",
    "\n",
    "Mathematically, it represents the ratio of the sum of true positive and true negatives out of all the predictions."
   ]
  },
  {
   "cell_type": "markdown",
   "id": "8851b9cf",
   "metadata": {},
   "source": [
    "### Precision Score"
   ]
  },
  {
   "cell_type": "code",
   "execution_count": 286,
   "id": "e01be8f0",
   "metadata": {
    "scrolled": true
   },
   "outputs": [
    {
     "name": "stdout",
     "output_type": "stream",
     "text": [
      "Precision score: 58.71 %\n",
      "\n"
     ]
    }
   ],
   "source": [
    "print(\"Precision score:\", round((precision_score(y_test, y_pred, average='macro')*100), 2), '%\\n')"
   ]
  },
  {
   "cell_type": "markdown",
   "id": "d278a463",
   "metadata": {},
   "source": [
    "The precision score is a useful measure of the success of prediction when the classes are very imbalanced.\n",
    "\n",
    "Mathematically, it represents the ratio of true positive to the sum of true positive and false positive."
   ]
  },
  {
   "cell_type": "markdown",
   "id": "e28b860a",
   "metadata": {},
   "source": [
    "### Recall Score"
   ]
  },
  {
   "cell_type": "code",
   "execution_count": 287,
   "id": "5a766aab",
   "metadata": {},
   "outputs": [
    {
     "name": "stdout",
     "output_type": "stream",
     "text": [
      "Recall score: 68.77 %\n",
      "\n"
     ]
    }
   ],
   "source": [
    "print(\"Recall score:\", round((metrics.recall_score(y_test, y_pred)*100), 2), '%\\n')"
   ]
  },
  {
   "cell_type": "markdown",
   "id": "f9cd0c58",
   "metadata": {},
   "source": [
    "Model recall score represents the model’s ability to correctly predict the positives out of actual positives. This is unlike precision which measures how many predictions made by models are actually positive out of all positive predictions made.\n",
    "\n",
    "Recall score is a useful measure of success of prediction when the classes are very imbalanced. \n",
    "\n",
    "Mathematically, it represents the ratio of true positive to the sum of true positive and false negative."
   ]
  },
  {
   "cell_type": "markdown",
   "id": "2fff7b33",
   "metadata": {},
   "source": [
    "### F1 Score"
   ]
  },
  {
   "cell_type": "code",
   "execution_count": 288,
   "id": "cc203305",
   "metadata": {},
   "outputs": [
    {
     "name": "stdout",
     "output_type": "stream",
     "text": [
      "F1 Score: 63 2 %\n",
      "\n"
     ]
    }
   ],
   "source": [
    "print(\"F1 Score:\", round((metrics.f1_score(y_test, y_pred))*100), 2, '%\\n')"
   ]
  },
  {
   "cell_type": "markdown",
   "id": "91bb3732",
   "metadata": {},
   "source": [
    "F1-score is harmonic mean of precision and recall score and is used as a metrics in the scenarios where choosing either of precision or recall score can result in compromise in terms of model giving high false positives and false negatives respectively."
   ]
  },
  {
   "cell_type": "markdown",
   "id": "ff3de05b",
   "metadata": {},
   "source": [
    "### ROC Curve"
   ]
  },
  {
   "cell_type": "code",
   "execution_count": 289,
   "id": "30cee1e2",
   "metadata": {},
   "outputs": [
    {
     "data": {
      "image/png": "[encoded data removed]",
      "text/plain": [
       "<Figure size 432x288 with 1 Axes>"
      ]
     },
     "metadata": {
      "needs_background": "light"
     },
     "output_type": "display_data"
    }
   ],
   "source": [
    "prediction_prob = model.predict_proba(X_test)[::,1]\n",
    "fpr, tpr, _ = metrics.roc_curve(y_test,  prediction_prob)\n",
    "auc = metrics.roc_auc_score(y_test, prediction_prob)\n",
    "\n",
    "#create ROC curve\n",
    "plt.title(\"Receiver Operating Characteristic curve\")\n",
    "plt.plot(fpr,tpr,label=\"AUC=\"+str(auc))\n",
    "plt.legend(loc=4)\n",
    "plt.show()"
   ]
  },
  {
   "cell_type": "markdown",
   "id": "103d55fa",
   "metadata": {},
   "source": [
    "This curve displays the percentage of true positives predicted by the model as the prediction probability cutoff is lowered from 1 to 0.\n",
    "\n",
    "The higher the AUC (area under the curve), the more accurately our model is able to predict outcomes."
   ]
  },
  {
   "cell_type": "markdown",
   "id": "c83e55d7",
   "metadata": {},
   "source": [
    "# Decision Tree"
   ]
  },
  {
   "cell_type": "code",
   "execution_count": 290,
   "id": "3a7fa6c3",
   "metadata": {},
   "outputs": [
    {
     "data": {
      "image/png": "[encoded data removed]",
      "text/plain": [
       "<Figure size 1440x1440 with 1 Axes>"
      ]
     },
     "metadata": {
      "needs_background": "light"
     },
     "output_type": "display_data"
    }
   ],
   "source": [
    "DT = DecisionTreeClassifier(criterion='gini', min_samples_split=2)\n",
    "DT.fit(X_train, y_train)\n",
    "plt.figure(figsize=(20,20))\n",
    "tree.plot_tree(DT)\n",
    "plt.show()"
   ]
  },
  {
   "cell_type": "markdown",
   "id": "21d81ac6",
   "metadata": {},
   "source": [
    "## Model testing"
   ]
  },
  {
   "cell_type": "code",
   "execution_count": 291,
   "id": "c0535d31",
   "metadata": {},
   "outputs": [
    {
     "name": "stdout",
     "output_type": "stream",
     "text": [
      "Predictions:\n",
      "\n",
      " [0. 1. 1. ... 0. 0. 1.] \n",
      "\n",
      "Real values:\n",
      "\n",
      " [0. 1. 1. ... 0. 0. 1.]\n"
     ]
    }
   ],
   "source": [
    "y_pred = DT.predict(X_test)\n",
    "print(\"Predictions:\\n\\n\", y_pred, '\\n')\n",
    "print(\"Real values:\\n\\n\", y_test)"
   ]
  },
  {
   "cell_type": "markdown",
   "id": "3c86b0f9",
   "metadata": {},
   "source": [
    "## Model evaluation"
   ]
  },
  {
   "cell_type": "markdown",
   "id": "b60741bd",
   "metadata": {},
   "source": [
    "### Confusion Matrix"
   ]
  },
  {
   "cell_type": "code",
   "execution_count": 292,
   "id": "8c4b10de",
   "metadata": {},
   "outputs": [
    {
     "data": {
      "image/png": "[encoded data removed]",
      "text/plain": [
       "<Figure size 360x360 with 1 Axes>"
      ]
     },
     "metadata": {
      "needs_background": "light"
     },
     "output_type": "display_data"
    },
    {
     "name": "stdout",
     "output_type": "stream",
     "text": [
      "The confusion matrix shows us the number of :\n",
      "\n",
      "* True positives : 57575 \n",
      "\n",
      "* True negatives : 0 \n",
      "\n",
      "* False positives: 0 \n",
      "\n",
      "* False negatives: 62178 \n",
      "\n"
     ]
    }
   ],
   "source": [
    "conf_matrix = metrics.confusion_matrix(y_test, y_pred)\n",
    "\n",
    "fig, ax = plt.subplots(figsize=(5, 5))\n",
    "ax.matshow(conf_matrix, cmap=plt.cm.Oranges, alpha=0.3)\n",
    "for i in range(conf_matrix.shape[0]):\n",
    "    for j in range(conf_matrix.shape[1]):\n",
    "        ax.text(x=j, y=i,s=conf_matrix[i, j], va='center', ha='center', size='xx-large')\n",
    "plt.xlabel('Predictions', fontsize=18)\n",
    "plt.ylabel('Actuals', fontsize=18)\n",
    "plt.title('Confusion Matrix', fontsize=18)\n",
    "plt.show()\n",
    "\n",
    "print('The confusion matrix shows us the number of :\\n')\n",
    "print('* True positives :', conf_matrix[0][0] ,'\\n')\n",
    "print('* True negatives :', conf_matrix[0][1],'\\n')\n",
    "print('* False positives:', conf_matrix[1][0] ,'\\n')\n",
    "print('* False negatives:', conf_matrix[1][1] ,'\\n')"
   ]
  },
  {
   "cell_type": "markdown",
   "id": "2a80f209",
   "metadata": {},
   "source": [
    "### Classification report"
   ]
  },
  {
   "cell_type": "code",
   "execution_count": 293,
   "id": "db1729ef",
   "metadata": {},
   "outputs": [
    {
     "name": "stdout",
     "output_type": "stream",
     "text": [
      "Classification report:\n",
      "\n",
      "               precision    recall  f1-score   support\n",
      "\n",
      "         0.0       1.00      1.00      1.00     57575\n",
      "         1.0       1.00      1.00      1.00     62178\n",
      "\n",
      "    accuracy                           1.00    119753\n",
      "   macro avg       1.00      1.00      1.00    119753\n",
      "weighted avg       1.00      1.00      1.00    119753\n",
      "\n"
     ]
    }
   ],
   "source": [
    "print(\"Classification report:\\n\\n\", classification_report(y_test, y_pred))"
   ]
  },
  {
   "cell_type": "markdown",
   "id": "bb2035ee",
   "metadata": {},
   "source": [
    "### Accuracy Score"
   ]
  },
  {
   "cell_type": "code",
   "execution_count": 294,
   "id": "0b5e3e0a",
   "metadata": {},
   "outputs": [
    {
     "name": "stdout",
     "output_type": "stream",
     "text": [
      "Accuracy score: 100.0 %\n",
      "\n",
      "Accuracy score using cross validation: 100.0 %\n",
      "\n"
     ]
    }
   ],
   "source": [
    "print(\"Accuracy score:\", round((accuracy_score(y_test, y_pred)*100), 2), '%\\n')\n",
    "print(\"Accuracy score using cross validation:\", \n",
    "      round((cross_val_score(DT, X_train, y_train, cv=3, scoring='accuracy').mean())*100, 2), '%\\n')"
   ]
  },
  {
   "cell_type": "markdown",
   "id": "8c144b95",
   "metadata": {},
   "source": [
    "# Random Forest"
   ]
  },
  {
   "cell_type": "code",
   "execution_count": 295,
   "id": "5f7a150c",
   "metadata": {},
   "outputs": [],
   "source": [
    "RF = RandomForestClassifier()"
   ]
  },
  {
   "cell_type": "code",
   "execution_count": 296,
   "id": "bfed437c",
   "metadata": {},
   "outputs": [
    {
     "data": {
      "text/plain": [
       "RandomForestClassifier()"
      ]
     },
     "execution_count": 296,
     "metadata": {},
     "output_type": "execute_result"
    }
   ],
   "source": [
    "RF.fit(X_train, y_train)"
   ]
  },
  {
   "cell_type": "markdown",
   "id": "2a8aa652",
   "metadata": {},
   "source": [
    "## Model testing"
   ]
  },
  {
   "cell_type": "code",
   "execution_count": 297,
   "id": "b6aa8887",
   "metadata": {},
   "outputs": [
    {
     "name": "stdout",
     "output_type": "stream",
     "text": [
      "Predictions:\n",
      "\n",
      " [0. 1. 1. ... 0. 0. 1.] \n",
      "\n",
      "Real values:\n",
      "\n",
      " [0. 1. 1. ... 0. 0. 1.]\n"
     ]
    }
   ],
   "source": [
    "y_pred = RF.predict(X_test)\n",
    "print(\"Predictions:\\n\\n\", y_pred, '\\n')\n",
    "print(\"Real values:\\n\\n\", y_test)"
   ]
  },
  {
   "cell_type": "markdown",
   "id": "84acda25",
   "metadata": {},
   "source": [
    "## Model evaluation"
   ]
  },
  {
   "cell_type": "markdown",
   "id": "fd699a46",
   "metadata": {},
   "source": [
    "### Confusion Matrix"
   ]
  },
  {
   "cell_type": "code",
   "execution_count": 298,
   "id": "6bbbe919",
   "metadata": {},
   "outputs": [
    {
     "data": {
      "image/png": "[encoded data removed]",
      "text/plain": [
       "<Figure size 360x360 with 1 Axes>"
      ]
     },
     "metadata": {
      "needs_background": "light"
     },
     "output_type": "display_data"
    },
    {
     "name": "stdout",
     "output_type": "stream",
     "text": [
      "The confusion matrix shows us the number of :\n",
      "\n",
      "* True positives : 57575 \n",
      "\n",
      "* True negatives : 0 \n",
      "\n",
      "* False positives: 0 \n",
      "\n",
      "* False negatives: 62178 \n",
      "\n"
     ]
    }
   ],
   "source": [
    "conf_matrix = metrics.confusion_matrix(y_test, y_pred)\n",
    "\n",
    "fig, ax = plt.subplots(figsize=(5, 5))\n",
    "ax.matshow(conf_matrix, cmap=plt.cm.Oranges, alpha=0.3)\n",
    "for i in range(conf_matrix.shape[0]):\n",
    "    for j in range(conf_matrix.shape[1]):\n",
    "        ax.text(x=j, y=i,s=conf_matrix[i, j], va='center', ha='center', size='xx-large')\n",
    "plt.xlabel('Predictions', fontsize=18)\n",
    "plt.ylabel('Actuals', fontsize=18)\n",
    "plt.title('Confusion Matrix', fontsize=18)\n",
    "plt.show()\n",
    "\n",
    "print('The confusion matrix shows us the number of :\\n')\n",
    "print('* True positives :', conf_matrix[0][0] ,'\\n')\n",
    "print('* True negatives :', conf_matrix[0][1],'\\n')\n",
    "print('* False positives:', conf_matrix[1][0] ,'\\n')\n",
    "print('* False negatives:', conf_matrix[1][1] ,'\\n')"
   ]
  },
  {
   "cell_type": "markdown",
   "id": "134a4435",
   "metadata": {},
   "source": [
    "### Classification Report"
   ]
  },
  {
   "cell_type": "code",
   "execution_count": 299,
   "id": "789a0118",
   "metadata": {},
   "outputs": [
    {
     "name": "stdout",
     "output_type": "stream",
     "text": [
      "Classification report:               precision    recall  f1-score   support\n",
      "\n",
      "         0.0       1.00      1.00      1.00     57575\n",
      "         1.0       1.00      1.00      1.00     62178\n",
      "\n",
      "    accuracy                           1.00    119753\n",
      "   macro avg       1.00      1.00      1.00    119753\n",
      "weighted avg       1.00      1.00      1.00    119753\n",
      "\n"
     ]
    }
   ],
   "source": [
    "print(\"Classification report:\", classification_report(y_test, y_pred))"
   ]
  },
  {
   "cell_type": "markdown",
   "id": "179d0413",
   "metadata": {},
   "source": [
    "### Accuracy Score"
   ]
  },
  {
   "cell_type": "code",
   "execution_count": 300,
   "id": "f85fef19",
   "metadata": {},
   "outputs": [
    {
     "name": "stdout",
     "output_type": "stream",
     "text": [
      "Accuracy score: 100.0 %\n",
      "\n",
      "Accuracy score using cross validation: 100.0 %\n",
      "\n"
     ]
    }
   ],
   "source": [
    "print(\"Accuracy score:\", round((accuracy_score(y_test, y_pred)*100), 2), '%\\n')\n",
    "print(\"Accuracy score using cross validation:\", \n",
    "      round((cross_val_score(RF, X_train, y_train, cv=3, scoring='accuracy').mean())*100, 2), '%\\n')"
   ]
  },
  {
   "cell_type": "markdown",
   "id": "930046da",
   "metadata": {},
   "source": [
    "# XGBoost"
   ]
  },
  {
   "cell_type": "code",
   "execution_count": 301,
   "id": "29c3462a",
   "metadata": {},
   "outputs": [],
   "source": [
    "dtrain = xgb.DMatrix(X_train, label=y_train)\n",
    "dtest = xgb.DMatrix(X_test, label=y_test)"
   ]
  },
  {
   "cell_type": "markdown",
   "id": "031fc9b2",
   "metadata": {},
   "source": [
    "## Model training"
   ]
  },
  {
   "cell_type": "code",
   "execution_count": 302,
   "id": "e964eab2",
   "metadata": {},
   "outputs": [
    {
     "name": "stdout",
     "output_type": "stream",
     "text": [
      "[11:21:32] WARNING: C:/Users/Administrator/workspace/xgboost-win64_release_1.5.1/src/learner.cc:576: \n",
      "Parameters: { \"silent\" } might not be used.\n",
      "\n",
      "  This could be a false alarm, with some parameters getting used by language bindings but\n",
      "  then being mistakenly passed down to XGBoost core, or some parameter actually being used\n",
      "  but getting flagged wrongly here. Please open an issue if you find any such cases.\n",
      "\n",
      "\n",
      "[11:21:33] WARNING: C:/Users/Administrator/workspace/xgboost-win64_release_1.5.1/src/learner.cc:1115: Starting in XGBoost 1.3.0, the default evaluation metric used with the objective 'multi:softprob' was changed from 'merror' to 'mlogloss'. Explicitly set eval_metric if you'd like to restore the old behavior.\n"
     ]
    }
   ],
   "source": [
    "param = {\n",
    "    'max_depth': 3,  # the maximum depth of each tree\n",
    "    'eta': 0.3,  # the training step for each iteration\n",
    "    'silent': 1,  # logging mode - quiet\n",
    "    'objective': 'multi:softprob',  # error evaluation for multiclass training\n",
    "    'num_class': 3}  # the number of classes that exist in this datset\n",
    "num_round = 20  # the number of training iterations\n",
    "bst = xgb.train(param, dtrain, num_round)"
   ]
  },
  {
   "cell_type": "code",
   "execution_count": 303,
   "id": "8e07102b",
   "metadata": {
    "scrolled": true
   },
   "outputs": [
    {
     "name": "stdout",
     "output_type": "stream",
     "text": [
      "booster[0]:\n",
      "0:[f121<0.5] yes=1,no=2,missing=1\n",
      "\t1:leaf=0.449994147\n",
      "\t2:leaf=-0.224997312\n",
      "booster[1]:\n",
      "0:[f121<0.5] yes=1,no=2,missing=1\n",
      "\t1:leaf=-0.224997088\n",
      "\t2:leaf=0.449994594\n",
      "booster[2]:\n",
      "0:leaf=-0.224998608\n",
      "booster[3]:\n",
      "0:[f121<0.5] yes=1,no=2,missing=1\n",
      "\t1:leaf=0.302744657\n",
      "\t2:leaf=-0.200604156\n",
      "booster[4]:\n",
      "0:[f121<0.5] yes=1,no=2,missing=1\n",
      "\t1:leaf=-0.200603977\n",
      "\t2:leaf=0.302744836\n",
      "booster[5]:\n",
      "0:leaf=-0.200605482\n",
      "booster[6]:\n",
      "0:[f121<0.5] yes=1,no=2,missing=1\n",
      "\t1:leaf=0.24233368\n",
      "\t2:leaf=-0.185299397\n",
      "booster[7]:\n",
      "0:[f121<0.5] yes=1,no=2,missing=1\n",
      "\t1:leaf=-0.185299188\n",
      "\t2:leaf=0.242333815\n",
      "booster[8]:\n",
      "0:leaf=-0.185300842\n",
      "booster[9]:\n",
      "0:[f121<0.5] yes=1,no=2,missing=1\n",
      "\t1:leaf=0.210205182\n",
      "\t2:leaf=-0.175068453\n",
      "booster[10]:\n",
      "0:[f121<0.5] yes=1,no=2,missing=1\n",
      "\t1:leaf=-0.17506817\n",
      "\t2:leaf=0.210205317\n",
      "booster[11]:\n",
      "0:leaf=-0.175070167\n",
      "booster[12]:\n",
      "0:[f121<0.5] yes=1,no=2,missing=1\n",
      "\t1:leaf=0.190954134\n",
      "\t2:leaf=-0.16801405\n",
      "booster[13]:\n",
      "0:[f121<0.5] yes=1,no=2,missing=1\n",
      "\t1:leaf=-0.168013707\n",
      "\t2:leaf=0.190954342\n",
      "booster[14]:\n",
      "0:leaf=-0.16801621\n",
      "booster[15]:\n",
      "0:[f121<0.5] yes=1,no=2,missing=1\n",
      "\t1:leaf=0.178600639\n",
      "\t2:leaf=-0.163051367\n",
      "booster[16]:\n",
      "0:[f121<0.5] yes=1,no=2,missing=1\n",
      "\t1:leaf=-0.16305092\n",
      "\t2:leaf=0.178600907\n",
      "booster[17]:\n",
      "0:leaf=-0.163054124\n",
      "booster[18]:\n",
      "0:[f121<0.5] yes=1,no=2,missing=1\n",
      "\t1:leaf=0.170321524\n",
      "\t2:leaf=-0.159510642\n",
      "booster[19]:\n",
      "0:[f121<0.5] yes=1,no=2,missing=1\n",
      "\t1:leaf=-0.159510046\n",
      "\t2:leaf=0.170321822\n",
      "booster[20]:\n",
      "0:leaf=-0.159514174\n",
      "booster[21]:\n",
      "0:[f121<0.5] yes=1,no=2,missing=1\n",
      "\t1:leaf=0.164609537\n",
      "\t2:leaf=-0.156958356\n",
      "booster[22]:\n",
      "0:[f121<0.5] yes=1,no=2,missing=1\n",
      "\t1:leaf=-0.156957582\n",
      "\t2:leaf=0.164609924\n",
      "booster[23]:\n",
      "0:leaf=-0.156963021\n",
      "booster[24]:\n",
      "0:[f121<0.5] yes=1,no=2,missing=1\n",
      "\t1:leaf=0.160588801\n",
      "\t2:leaf=-0.155104414\n",
      "booster[25]:\n",
      "0:[f121<0.5] yes=1,no=2,missing=1\n",
      "\t1:leaf=-0.155103415\n",
      "\t2:leaf=0.160589293\n",
      "booster[26]:\n",
      "0:leaf=-0.155110598\n",
      "booster[27]:\n",
      "0:[f121<0.5] yes=1,no=2,missing=1\n",
      "\t1:leaf=0.157717913\n",
      "\t2:leaf=-0.153749615\n",
      "booster[28]:\n",
      "0:[f121<0.5] yes=1,no=2,missing=1\n",
      "\t1:leaf=-0.153748274\n",
      "\t2:leaf=0.157718599\n",
      "booster[29]:\n",
      "0:leaf=-0.153757811\n",
      "booster[30]:\n",
      "0:[f121<0.5] yes=1,no=2,missing=1\n",
      "\t1:leaf=0.155646682\n",
      "\t2:leaf=-0.152754471\n",
      "booster[31]:\n",
      "0:[f121<0.5] yes=1,no=2,missing=1\n",
      "\t1:leaf=-0.152752668\n",
      "\t2:leaf=0.155647591\n",
      "booster[32]:\n",
      "0:leaf=-0.152765393\n",
      "booster[33]:\n",
      "0:[f121<0.5] yes=1,no=2,missing=1\n",
      "\t1:leaf=0.154140592\n",
      "\t2:leaf=-0.152019784\n",
      "booster[34]:\n",
      "0:[f121<0.5] yes=1,no=2,missing=1\n",
      "\t1:leaf=-0.15201737\n",
      "\t2:leaf=0.154141814\n",
      "booster[35]:\n",
      "0:leaf=-0.152034432\n",
      "booster[36]:\n",
      "0:[f121<0.5] yes=1,no=2,missing=1\n",
      "\t1:leaf=0.153038487\n",
      "\t2:leaf=-0.151474118\n",
      "booster[37]:\n",
      "0:[f121<0.5] yes=1,no=2,missing=1\n",
      "\t1:leaf=-0.151470855\n",
      "\t2:leaf=0.153040126\n",
      "booster[38]:\n",
      "0:leaf=-0.151493728\n",
      "booster[39]:\n",
      "0:[f121<0.5] yes=1,no=2,missing=1\n",
      "\t1:leaf=0.152227312\n",
      "\t2:leaf=-0.151065305\n",
      "booster[40]:\n",
      "0:[f121<0.5] yes=1,no=2,missing=1\n",
      "\t1:leaf=-0.151060939\n",
      "\t2:leaf=0.152229533\n",
      "booster[41]:\n",
      "0:leaf=-0.15109168\n",
      "booster[42]:\n",
      "0:[f121<0.5] yes=1,no=2,missing=1\n",
      "\t1:leaf=0.151626498\n",
      "\t2:leaf=-0.150754929\n",
      "booster[43]:\n",
      "0:[f121<0.5] yes=1,no=2,missing=1\n",
      "\t1:leaf=-0.150749043\n",
      "\t2:leaf=0.151629448\n",
      "booster[44]:\n",
      "0:leaf=-0.150790378\n",
      "booster[45]:\n",
      "0:[f121<0.5] yes=1,no=2,missing=1\n",
      "\t1:leaf=0.151177734\n",
      "\t2:leaf=-0.150514007\n",
      "booster[46]:\n",
      "0:[f121<0.5] yes=1,no=2,missing=1\n",
      "\t1:leaf=-0.150506079\n",
      "\t2:leaf=0.151181698\n",
      "booster[47]:\n",
      "0:leaf=-0.15056172\n",
      "booster[48]:\n",
      "0:[f121<0.5] yes=1,no=2,missing=1\n",
      "\t1:leaf=0.150838286\n",
      "\t2:leaf=-0.150320292\n",
      "booster[49]:\n",
      "0:[f121<0.5] yes=1,no=2,missing=1\n",
      "\t1:leaf=-0.150309622\n",
      "\t2:leaf=0.15084365\n",
      "booster[50]:\n",
      "0:leaf=-0.15038453\n",
      "booster[51]:\n",
      "0:[f121<0.5] yes=1,no=2,missing=1\n",
      "\t1:leaf=0.150576249\n",
      "\t2:leaf=-0.150156036\n",
      "booster[52]:\n",
      "0:[f121<0.5] yes=1,no=2,missing=1\n",
      "\t1:leaf=-0.150141656\n",
      "\t2:leaf=0.150583476\n",
      "booster[53]:\n",
      "0:leaf=-0.150242552\n",
      "booster[54]:\n",
      "0:[f121<0.5] yes=1,no=2,missing=1\n",
      "\t1:leaf=0.150367305\n",
      "\t2:leaf=-0.150006205\n",
      "booster[55]:\n",
      "0:[f121<0.5] yes=1,no=2,missing=1\n",
      "\t1:leaf=-0.149986878\n",
      "\t2:leaf=0.150377005\n",
      "booster[56]:\n",
      "0:leaf=-0.150122777\n",
      "booster[57]:\n",
      "0:[f121<0.5] yes=1,no=2,missing=1\n",
      "\t1:leaf=0.150192156\n",
      "\t2:leaf=-0.149857298\n",
      "booster[58]:\n",
      "0:[f121<0.5] yes=1,no=2,missing=1\n",
      "\t1:leaf=-0.149831265\n",
      "\t2:leaf=0.150205255\n",
      "booster[59]:\n",
      "0:leaf=-0.150014311\n",
      "\n"
     ]
    }
   ],
   "source": [
    "bst.dump_model('dump.raw.txt')\n",
    "f = open('dump.raw.txt', 'r')\n",
    "print(f.read())"
   ]
  },
  {
   "cell_type": "markdown",
   "id": "6ce5d657",
   "metadata": {},
   "source": [
    "## Model Testing"
   ]
  },
  {
   "cell_type": "code",
   "execution_count": 304,
   "id": "a4a1c90e",
   "metadata": {},
   "outputs": [
    {
     "name": "stdout",
     "output_type": "stream",
     "text": [
      "Predictions:\n",
      "\n",
      " [0 1 1 ... 0 0 1] \n",
      "\n",
      "Real values:\n",
      "\n",
      " [0. 1. 1. ... 0. 0. 1.]\n"
     ]
    }
   ],
   "source": [
    "probs_predictions = bst.predict(dtest)\n",
    "y_pred = np.asarray([np.argmax(line) for line in probs_predictions])\n",
    "print(\"Predictions:\\n\\n\", y_pred, '\\n')\n",
    "print(\"Real values:\\n\\n\", y_test)"
   ]
  },
  {
   "cell_type": "markdown",
   "id": "a78b2ce8",
   "metadata": {},
   "source": [
    "## Model Evaluation"
   ]
  },
  {
   "cell_type": "markdown",
   "id": "2d889a54",
   "metadata": {},
   "source": [
    "### Classification Report"
   ]
  },
  {
   "cell_type": "code",
   "execution_count": 305,
   "id": "a2aefa4f",
   "metadata": {},
   "outputs": [
    {
     "name": "stdout",
     "output_type": "stream",
     "text": [
      "Classification report:               precision    recall  f1-score   support\n",
      "\n",
      "         0.0       1.00      1.00      1.00     57575\n",
      "         1.0       1.00      1.00      1.00     62178\n",
      "\n",
      "    accuracy                           1.00    119753\n",
      "   macro avg       1.00      1.00      1.00    119753\n",
      "weighted avg       1.00      1.00      1.00    119753\n",
      "\n"
     ]
    }
   ],
   "source": [
    "print(\"Classification report:\", classification_report(y_test, y_pred))"
   ]
  },
  {
   "cell_type": "markdown",
   "id": "d35707e4",
   "metadata": {},
   "source": [
    "### Confusion Matrix"
   ]
  },
  {
   "cell_type": "code",
   "execution_count": 306,
   "id": "0182ae2d",
   "metadata": {},
   "outputs": [
    {
     "data": {
      "image/png": "[encoded data removed]",
      "text/plain": [
       "<Figure size 360x360 with 1 Axes>"
      ]
     },
     "metadata": {
      "needs_background": "light"
     },
     "output_type": "display_data"
    },
    {
     "name": "stdout",
     "output_type": "stream",
     "text": [
      "The confusion matrix shows us the number of :\n",
      "\n",
      "* True positives : 57575 \n",
      "\n",
      "* True negatives : 0 \n",
      "\n",
      "* False positives: 0 \n",
      "\n",
      "* False negatives: 62178 \n",
      "\n"
     ]
    }
   ],
   "source": [
    "conf_matrix = metrics.confusion_matrix(y_test, y_pred)\n",
    "\n",
    "fig, ax = plt.subplots(figsize=(5, 5))\n",
    "ax.matshow(conf_matrix, cmap=plt.cm.Oranges, alpha=0.3)\n",
    "for i in range(conf_matrix.shape[0]):\n",
    "    for j in range(conf_matrix.shape[1]):\n",
    "        ax.text(x=j, y=i,s=conf_matrix[i, j], va='center', ha='center', size='xx-large')\n",
    "plt.xlabel('Predictions', fontsize=18)\n",
    "plt.ylabel('Actuals', fontsize=18)\n",
    "plt.title('Confusion Matrix', fontsize=18)\n",
    "plt.show()\n",
    "\n",
    "print('The confusion matrix shows us the number of :\\n')\n",
    "print('* True positives :', conf_matrix[0][0] ,'\\n')\n",
    "print('* True negatives :', conf_matrix[0][1],'\\n')\n",
    "print('* False positives:', conf_matrix[1][0] ,'\\n')\n",
    "print('* False negatives:', conf_matrix[1][1] ,'\\n')"
   ]
  },
  {
   "cell_type": "markdown",
   "id": "c8947d35",
   "metadata": {},
   "source": [
    "# Conclusion"
   ]
  },
  {
   "cell_type": "markdown",
   "id": "3d051e49",
   "metadata": {},
   "source": [
    "The data given was very unbalanced, we had to use oversampling to balance it to get accurate models.\n",
    "\n",
    "We can see that the least efficient model was the logistic regression."
   ]
  }
 ],
 "metadata": {
  "kernelspec": {
   "display_name": "Python 3 (ipykernel)",
   "language": "python",
   "name": "python3"
  },
  "language_info": {
   "codemirror_mode": {
    "name": "ipython",
    "version": 3
   },
   "file_extension": ".py",
   "mimetype": "text/x-python",
   "name": "python",
   "nbconvert_exporter": "python",
   "pygments_lexer": "ipython3",
   "version": "3.9.6"
  }
 },
 "nbformat": 4,
 "nbformat_minor": 5
}
