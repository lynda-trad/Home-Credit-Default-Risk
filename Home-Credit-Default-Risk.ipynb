{
 "cells": [
  {
   "cell_type": "markdown",
   "id": "4a3ad134",
   "metadata": {},
   "source": [
    "# Home Credit Default Risk"
   ]
  },
  {
   "cell_type": "markdown",
   "id": "3c10a254",
   "metadata": {},
   "source": [
    "# Library used"
   ]
  },
  {
   "cell_type": "code",
   "execution_count": 221,
   "id": "a725b07c",
   "metadata": {},
   "outputs": [],
   "source": [
    "import numpy as np\n",
    "import pandas as pd\n",
    "from pandas import Series, DataFrame\n",
    "import seaborn as sns\n",
    "import matplotlib.pyplot as plt\n",
    "import plotly.express as px\n",
    "import graphviz\n",
    "\n",
    "# Machine Learning Library\n",
    "from sklearn import metrics\n",
    "from sklearn.metrics import multilabel_confusion_matrix, classification_report, accuracy_score, precision_score\n",
    "from sklearn.model_selection import train_test_split, cross_val_score\n",
    "from sklearn.preprocessing import LabelEncoder, StandardScaler, MinMaxScaler\n",
    "from sklearn.impute import SimpleImputer\n",
    "import joblib\n",
    "\n",
    "# Logistic Regression\n",
    "from sklearn.linear_model import LogisticRegression\n",
    "\n",
    "from warnings import filterwarnings\n",
    "filterwarnings('ignore')"
   ]
  },
  {
   "cell_type": "markdown",
   "id": "f01fa184",
   "metadata": {},
   "source": [
    "## Data"
   ]
  },
  {
   "cell_type": "code",
   "execution_count": 222,
   "id": "83575876",
   "metadata": {
    "scrolled": true
   },
   "outputs": [
    {
     "data": {
      "text/html": [
       "<div>\n",
       "<style scoped>\n",
       "    .dataframe tbody tr th:only-of-type {\n",
       "        vertical-align: middle;\n",
       "    }\n",
       "\n",
       "    .dataframe tbody tr th {\n",
       "        vertical-align: top;\n",
       "    }\n",
       "\n",
       "    .dataframe thead th {\n",
       "        text-align: right;\n",
       "    }\n",
       "</style>\n",
       "<table border=\"1\" class=\"dataframe\">\n",
       "  <thead>\n",
       "    <tr style=\"text-align: right;\">\n",
       "      <th></th>\n",
       "      <th>SK_ID_CURR</th>\n",
       "      <th>NAME_CONTRACT_TYPE</th>\n",
       "      <th>CODE_GENDER</th>\n",
       "      <th>FLAG_OWN_CAR</th>\n",
       "      <th>FLAG_OWN_REALTY</th>\n",
       "      <th>CNT_CHILDREN</th>\n",
       "      <th>AMT_INCOME_TOTAL</th>\n",
       "      <th>AMT_CREDIT</th>\n",
       "      <th>AMT_ANNUITY</th>\n",
       "      <th>AMT_GOODS_PRICE</th>\n",
       "      <th>...</th>\n",
       "      <th>FLAG_DOCUMENT_18</th>\n",
       "      <th>FLAG_DOCUMENT_19</th>\n",
       "      <th>FLAG_DOCUMENT_20</th>\n",
       "      <th>FLAG_DOCUMENT_21</th>\n",
       "      <th>AMT_REQ_CREDIT_BUREAU_HOUR</th>\n",
       "      <th>AMT_REQ_CREDIT_BUREAU_DAY</th>\n",
       "      <th>AMT_REQ_CREDIT_BUREAU_WEEK</th>\n",
       "      <th>AMT_REQ_CREDIT_BUREAU_MON</th>\n",
       "      <th>AMT_REQ_CREDIT_BUREAU_QRT</th>\n",
       "      <th>AMT_REQ_CREDIT_BUREAU_YEAR</th>\n",
       "    </tr>\n",
       "  </thead>\n",
       "  <tbody>\n",
       "    <tr>\n",
       "      <th>0</th>\n",
       "      <td>100001</td>\n",
       "      <td>Cash loans</td>\n",
       "      <td>F</td>\n",
       "      <td>N</td>\n",
       "      <td>Y</td>\n",
       "      <td>0</td>\n",
       "      <td>135000.0</td>\n",
       "      <td>568800.0</td>\n",
       "      <td>20560.5</td>\n",
       "      <td>450000.0</td>\n",
       "      <td>...</td>\n",
       "      <td>0</td>\n",
       "      <td>0</td>\n",
       "      <td>0</td>\n",
       "      <td>0</td>\n",
       "      <td>0.0</td>\n",
       "      <td>0.0</td>\n",
       "      <td>0.0</td>\n",
       "      <td>0.0</td>\n",
       "      <td>0.0</td>\n",
       "      <td>0.0</td>\n",
       "    </tr>\n",
       "    <tr>\n",
       "      <th>1</th>\n",
       "      <td>100005</td>\n",
       "      <td>Cash loans</td>\n",
       "      <td>M</td>\n",
       "      <td>N</td>\n",
       "      <td>Y</td>\n",
       "      <td>0</td>\n",
       "      <td>99000.0</td>\n",
       "      <td>222768.0</td>\n",
       "      <td>17370.0</td>\n",
       "      <td>180000.0</td>\n",
       "      <td>...</td>\n",
       "      <td>0</td>\n",
       "      <td>0</td>\n",
       "      <td>0</td>\n",
       "      <td>0</td>\n",
       "      <td>0.0</td>\n",
       "      <td>0.0</td>\n",
       "      <td>0.0</td>\n",
       "      <td>0.0</td>\n",
       "      <td>0.0</td>\n",
       "      <td>3.0</td>\n",
       "    </tr>\n",
       "    <tr>\n",
       "      <th>2</th>\n",
       "      <td>100013</td>\n",
       "      <td>Cash loans</td>\n",
       "      <td>M</td>\n",
       "      <td>Y</td>\n",
       "      <td>Y</td>\n",
       "      <td>0</td>\n",
       "      <td>202500.0</td>\n",
       "      <td>663264.0</td>\n",
       "      <td>69777.0</td>\n",
       "      <td>630000.0</td>\n",
       "      <td>...</td>\n",
       "      <td>0</td>\n",
       "      <td>0</td>\n",
       "      <td>0</td>\n",
       "      <td>0</td>\n",
       "      <td>0.0</td>\n",
       "      <td>0.0</td>\n",
       "      <td>0.0</td>\n",
       "      <td>0.0</td>\n",
       "      <td>1.0</td>\n",
       "      <td>4.0</td>\n",
       "    </tr>\n",
       "    <tr>\n",
       "      <th>3</th>\n",
       "      <td>100028</td>\n",
       "      <td>Cash loans</td>\n",
       "      <td>F</td>\n",
       "      <td>N</td>\n",
       "      <td>Y</td>\n",
       "      <td>2</td>\n",
       "      <td>315000.0</td>\n",
       "      <td>1575000.0</td>\n",
       "      <td>49018.5</td>\n",
       "      <td>1575000.0</td>\n",
       "      <td>...</td>\n",
       "      <td>0</td>\n",
       "      <td>0</td>\n",
       "      <td>0</td>\n",
       "      <td>0</td>\n",
       "      <td>0.0</td>\n",
       "      <td>0.0</td>\n",
       "      <td>0.0</td>\n",
       "      <td>0.0</td>\n",
       "      <td>0.0</td>\n",
       "      <td>3.0</td>\n",
       "    </tr>\n",
       "    <tr>\n",
       "      <th>4</th>\n",
       "      <td>100038</td>\n",
       "      <td>Cash loans</td>\n",
       "      <td>M</td>\n",
       "      <td>Y</td>\n",
       "      <td>N</td>\n",
       "      <td>1</td>\n",
       "      <td>180000.0</td>\n",
       "      <td>625500.0</td>\n",
       "      <td>32067.0</td>\n",
       "      <td>625500.0</td>\n",
       "      <td>...</td>\n",
       "      <td>0</td>\n",
       "      <td>0</td>\n",
       "      <td>0</td>\n",
       "      <td>0</td>\n",
       "      <td>NaN</td>\n",
       "      <td>NaN</td>\n",
       "      <td>NaN</td>\n",
       "      <td>NaN</td>\n",
       "      <td>NaN</td>\n",
       "      <td>NaN</td>\n",
       "    </tr>\n",
       "    <tr>\n",
       "      <th>...</th>\n",
       "      <td>...</td>\n",
       "      <td>...</td>\n",
       "      <td>...</td>\n",
       "      <td>...</td>\n",
       "      <td>...</td>\n",
       "      <td>...</td>\n",
       "      <td>...</td>\n",
       "      <td>...</td>\n",
       "      <td>...</td>\n",
       "      <td>...</td>\n",
       "      <td>...</td>\n",
       "      <td>...</td>\n",
       "      <td>...</td>\n",
       "      <td>...</td>\n",
       "      <td>...</td>\n",
       "      <td>...</td>\n",
       "      <td>...</td>\n",
       "      <td>...</td>\n",
       "      <td>...</td>\n",
       "      <td>...</td>\n",
       "      <td>...</td>\n",
       "    </tr>\n",
       "    <tr>\n",
       "      <th>48739</th>\n",
       "      <td>456221</td>\n",
       "      <td>Cash loans</td>\n",
       "      <td>F</td>\n",
       "      <td>N</td>\n",
       "      <td>Y</td>\n",
       "      <td>0</td>\n",
       "      <td>121500.0</td>\n",
       "      <td>412560.0</td>\n",
       "      <td>17473.5</td>\n",
       "      <td>270000.0</td>\n",
       "      <td>...</td>\n",
       "      <td>0</td>\n",
       "      <td>0</td>\n",
       "      <td>0</td>\n",
       "      <td>0</td>\n",
       "      <td>0.0</td>\n",
       "      <td>0.0</td>\n",
       "      <td>0.0</td>\n",
       "      <td>0.0</td>\n",
       "      <td>0.0</td>\n",
       "      <td>1.0</td>\n",
       "    </tr>\n",
       "    <tr>\n",
       "      <th>48740</th>\n",
       "      <td>456222</td>\n",
       "      <td>Cash loans</td>\n",
       "      <td>F</td>\n",
       "      <td>N</td>\n",
       "      <td>N</td>\n",
       "      <td>2</td>\n",
       "      <td>157500.0</td>\n",
       "      <td>622413.0</td>\n",
       "      <td>31909.5</td>\n",
       "      <td>495000.0</td>\n",
       "      <td>...</td>\n",
       "      <td>0</td>\n",
       "      <td>0</td>\n",
       "      <td>0</td>\n",
       "      <td>0</td>\n",
       "      <td>NaN</td>\n",
       "      <td>NaN</td>\n",
       "      <td>NaN</td>\n",
       "      <td>NaN</td>\n",
       "      <td>NaN</td>\n",
       "      <td>NaN</td>\n",
       "    </tr>\n",
       "    <tr>\n",
       "      <th>48741</th>\n",
       "      <td>456223</td>\n",
       "      <td>Cash loans</td>\n",
       "      <td>F</td>\n",
       "      <td>Y</td>\n",
       "      <td>Y</td>\n",
       "      <td>1</td>\n",
       "      <td>202500.0</td>\n",
       "      <td>315000.0</td>\n",
       "      <td>33205.5</td>\n",
       "      <td>315000.0</td>\n",
       "      <td>...</td>\n",
       "      <td>0</td>\n",
       "      <td>0</td>\n",
       "      <td>0</td>\n",
       "      <td>0</td>\n",
       "      <td>0.0</td>\n",
       "      <td>0.0</td>\n",
       "      <td>0.0</td>\n",
       "      <td>0.0</td>\n",
       "      <td>3.0</td>\n",
       "      <td>1.0</td>\n",
       "    </tr>\n",
       "    <tr>\n",
       "      <th>48742</th>\n",
       "      <td>456224</td>\n",
       "      <td>Cash loans</td>\n",
       "      <td>M</td>\n",
       "      <td>N</td>\n",
       "      <td>N</td>\n",
       "      <td>0</td>\n",
       "      <td>225000.0</td>\n",
       "      <td>450000.0</td>\n",
       "      <td>25128.0</td>\n",
       "      <td>450000.0</td>\n",
       "      <td>...</td>\n",
       "      <td>0</td>\n",
       "      <td>0</td>\n",
       "      <td>0</td>\n",
       "      <td>0</td>\n",
       "      <td>0.0</td>\n",
       "      <td>0.0</td>\n",
       "      <td>0.0</td>\n",
       "      <td>0.0</td>\n",
       "      <td>0.0</td>\n",
       "      <td>2.0</td>\n",
       "    </tr>\n",
       "    <tr>\n",
       "      <th>48743</th>\n",
       "      <td>456250</td>\n",
       "      <td>Cash loans</td>\n",
       "      <td>F</td>\n",
       "      <td>Y</td>\n",
       "      <td>N</td>\n",
       "      <td>0</td>\n",
       "      <td>135000.0</td>\n",
       "      <td>312768.0</td>\n",
       "      <td>24709.5</td>\n",
       "      <td>270000.0</td>\n",
       "      <td>...</td>\n",
       "      <td>0</td>\n",
       "      <td>0</td>\n",
       "      <td>0</td>\n",
       "      <td>0</td>\n",
       "      <td>0.0</td>\n",
       "      <td>0.0</td>\n",
       "      <td>0.0</td>\n",
       "      <td>0.0</td>\n",
       "      <td>1.0</td>\n",
       "      <td>4.0</td>\n",
       "    </tr>\n",
       "  </tbody>\n",
       "</table>\n",
       "<p>48744 rows × 121 columns</p>\n",
       "</div>"
      ],
      "text/plain": [
       "       SK_ID_CURR NAME_CONTRACT_TYPE CODE_GENDER FLAG_OWN_CAR FLAG_OWN_REALTY  \\\n",
       "0          100001         Cash loans           F            N               Y   \n",
       "1          100005         Cash loans           M            N               Y   \n",
       "2          100013         Cash loans           M            Y               Y   \n",
       "3          100028         Cash loans           F            N               Y   \n",
       "4          100038         Cash loans           M            Y               N   \n",
       "...           ...                ...         ...          ...             ...   \n",
       "48739      456221         Cash loans           F            N               Y   \n",
       "48740      456222         Cash loans           F            N               N   \n",
       "48741      456223         Cash loans           F            Y               Y   \n",
       "48742      456224         Cash loans           M            N               N   \n",
       "48743      456250         Cash loans           F            Y               N   \n",
       "\n",
       "       CNT_CHILDREN  AMT_INCOME_TOTAL  AMT_CREDIT  AMT_ANNUITY  \\\n",
       "0                 0          135000.0    568800.0      20560.5   \n",
       "1                 0           99000.0    222768.0      17370.0   \n",
       "2                 0          202500.0    663264.0      69777.0   \n",
       "3                 2          315000.0   1575000.0      49018.5   \n",
       "4                 1          180000.0    625500.0      32067.0   \n",
       "...             ...               ...         ...          ...   \n",
       "48739             0          121500.0    412560.0      17473.5   \n",
       "48740             2          157500.0    622413.0      31909.5   \n",
       "48741             1          202500.0    315000.0      33205.5   \n",
       "48742             0          225000.0    450000.0      25128.0   \n",
       "48743             0          135000.0    312768.0      24709.5   \n",
       "\n",
       "       AMT_GOODS_PRICE  ... FLAG_DOCUMENT_18 FLAG_DOCUMENT_19  \\\n",
       "0             450000.0  ...                0                0   \n",
       "1             180000.0  ...                0                0   \n",
       "2             630000.0  ...                0                0   \n",
       "3            1575000.0  ...                0                0   \n",
       "4             625500.0  ...                0                0   \n",
       "...                ...  ...              ...              ...   \n",
       "48739         270000.0  ...                0                0   \n",
       "48740         495000.0  ...                0                0   \n",
       "48741         315000.0  ...                0                0   \n",
       "48742         450000.0  ...                0                0   \n",
       "48743         270000.0  ...                0                0   \n",
       "\n",
       "      FLAG_DOCUMENT_20 FLAG_DOCUMENT_21 AMT_REQ_CREDIT_BUREAU_HOUR  \\\n",
       "0                    0                0                        0.0   \n",
       "1                    0                0                        0.0   \n",
       "2                    0                0                        0.0   \n",
       "3                    0                0                        0.0   \n",
       "4                    0                0                        NaN   \n",
       "...                ...              ...                        ...   \n",
       "48739                0                0                        0.0   \n",
       "48740                0                0                        NaN   \n",
       "48741                0                0                        0.0   \n",
       "48742                0                0                        0.0   \n",
       "48743                0                0                        0.0   \n",
       "\n",
       "       AMT_REQ_CREDIT_BUREAU_DAY  AMT_REQ_CREDIT_BUREAU_WEEK  \\\n",
       "0                            0.0                         0.0   \n",
       "1                            0.0                         0.0   \n",
       "2                            0.0                         0.0   \n",
       "3                            0.0                         0.0   \n",
       "4                            NaN                         NaN   \n",
       "...                          ...                         ...   \n",
       "48739                        0.0                         0.0   \n",
       "48740                        NaN                         NaN   \n",
       "48741                        0.0                         0.0   \n",
       "48742                        0.0                         0.0   \n",
       "48743                        0.0                         0.0   \n",
       "\n",
       "       AMT_REQ_CREDIT_BUREAU_MON  AMT_REQ_CREDIT_BUREAU_QRT  \\\n",
       "0                            0.0                        0.0   \n",
       "1                            0.0                        0.0   \n",
       "2                            0.0                        1.0   \n",
       "3                            0.0                        0.0   \n",
       "4                            NaN                        NaN   \n",
       "...                          ...                        ...   \n",
       "48739                        0.0                        0.0   \n",
       "48740                        NaN                        NaN   \n",
       "48741                        0.0                        3.0   \n",
       "48742                        0.0                        0.0   \n",
       "48743                        0.0                        1.0   \n",
       "\n",
       "       AMT_REQ_CREDIT_BUREAU_YEAR  \n",
       "0                             0.0  \n",
       "1                             3.0  \n",
       "2                             4.0  \n",
       "3                             3.0  \n",
       "4                             NaN  \n",
       "...                           ...  \n",
       "48739                         1.0  \n",
       "48740                         NaN  \n",
       "48741                         1.0  \n",
       "48742                         2.0  \n",
       "48743                         4.0  \n",
       "\n",
       "[48744 rows x 121 columns]"
      ]
     },
     "execution_count": 222,
     "metadata": {},
     "output_type": "execute_result"
    }
   ],
   "source": [
    "app_train = pd.read_csv(\"./resources/application_train.csv\", encoding='utf-8', sep=',')\n",
    "app_test = pd.read_csv(\"./resources/application_test.csv\", encoding='utf-8', sep=',')\n",
    "app_train.drop_duplicates()\n",
    "app_test.drop_duplicates()"
   ]
  },
  {
   "cell_type": "markdown",
   "id": "6d47ad3b",
   "metadata": {},
   "source": [
    "## Aligning the two datasets"
   ]
  },
  {
   "cell_type": "code",
   "execution_count": 223,
   "id": "19ab2ab5",
   "metadata": {
    "scrolled": true
   },
   "outputs": [
    {
     "name": "stdout",
     "output_type": "stream",
     "text": [
      "Training Features shape:  (307511, 122)\n",
      "Testing Features shape:  (48744, 121)\n"
     ]
    }
   ],
   "source": [
    "train_labels = app_train['TARGET']\n",
    "app_train, app_test = app_train.align(app_test, join = 'inner', axis = 1)\n",
    "app_train['TARGET'] = train_labels\n",
    "print('Training Features shape: ', app_train.shape)\n",
    "print('Testing Features shape: ', app_test.shape)"
   ]
  },
  {
   "cell_type": "markdown",
   "id": "3e73cd42",
   "metadata": {},
   "source": [
    "# Data Analysis"
   ]
  },
  {
   "cell_type": "code",
   "execution_count": 224,
   "id": "3457fb1e",
   "metadata": {
    "scrolled": true
   },
   "outputs": [
    {
     "data": {
      "text/plain": [
       "float64    65\n",
       "int64      41\n",
       "object     16\n",
       "dtype: int64"
      ]
     },
     "execution_count": 224,
     "metadata": {},
     "output_type": "execute_result"
    }
   ],
   "source": [
    "app_train.dtypes.value_counts()"
   ]
  },
  {
   "cell_type": "markdown",
   "id": "aeb3f699",
   "metadata": {},
   "source": [
    "## Is data unbalanced ? "
   ]
  },
  {
   "cell_type": "code",
   "execution_count": 225,
   "id": "4065f172",
   "metadata": {
    "scrolled": true
   },
   "outputs": [
    {
     "data": {
      "image/png": "[encoded data removed]",
      "text/plain": [
       "<Figure size 432x288 with 1 Axes>"
      ]
     },
     "metadata": {
      "needs_background": "light"
     },
     "output_type": "display_data"
    }
   ],
   "source": [
    "fig = sns.countplot(x=\"TARGET\", data=app_train)\n",
    "plt.title('Balance of target')\n",
    "plt.show()"
   ]
  },
  {
   "cell_type": "markdown",
   "id": "d9040755",
   "metadata": {},
   "source": [
    "The data is very unbalanced."
   ]
  },
  {
   "cell_type": "markdown",
   "id": "1e2c4770",
   "metadata": {},
   "source": [
    "## Gender distribution"
   ]
  },
  {
   "cell_type": "code",
   "execution_count": 226,
   "id": "5ccf2cb4",
   "metadata": {},
   "outputs": [
    {
     "data": {
      "image/png": "[encoded data removed]",
      "text/plain": [
       "<Figure size 432x288 with 1 Axes>"
      ]
     },
     "metadata": {},
     "output_type": "display_data"
    }
   ],
   "source": [
    "gender_group = app_train.groupby(['CODE_GENDER'])\n",
    "gender_group.size().plot(kind='pie', \n",
    "                         ylabel='Gender', \n",
    "                         colors=['pink', 'steelblue', 'pink'], \n",
    "                         title='Gender distribution',\n",
    "                         autopct='%.0f%%')\n",
    "plt.show()"
   ]
  },
  {
   "cell_type": "code",
   "execution_count": 227,
   "id": "b6a337f2",
   "metadata": {},
   "outputs": [],
   "source": [
    "### Contract type distribution"
   ]
  },
  {
   "cell_type": "code",
   "execution_count": 228,
   "id": "19e34b5a",
   "metadata": {},
   "outputs": [
    {
     "data": {
      "image/png": "[encoded data removed]",
      "text/plain": [
       "<Figure size 432x288 with 1 Axes>"
      ]
     },
     "metadata": {},
     "output_type": "display_data"
    }
   ],
   "source": [
    "contract_group = app_train.groupby(['NAME_CONTRACT_TYPE'])\n",
    "contract_group.size().plot(kind='pie', \n",
    "                           ylabel='', \n",
    "                           colors=['green', 'steelblue'], \n",
    "                           title='Contract type distribution',\n",
    "                           autopct='%.0f%%')\n",
    "plt.show()"
   ]
  },
  {
   "cell_type": "markdown",
   "id": "cd644c16",
   "metadata": {},
   "source": [
    "## Missing values"
   ]
  },
  {
   "cell_type": "code",
   "execution_count": 233,
   "id": "ec48af0c",
   "metadata": {
    "scrolled": true
   },
   "outputs": [
    {
     "name": "stdout",
     "output_type": "stream",
     "text": [
      "30 first columns filled with the most NaN values with their percentage:\n"
     ]
    },
    {
     "data": {
      "text/plain": [
       "COMMONAREA_MODE             69.872297\n",
       "COMMONAREA_AVG              69.872297\n",
       "COMMONAREA_MEDI             69.872297\n",
       "NONLIVINGAPARTMENTS_MEDI    69.432963\n",
       "NONLIVINGAPARTMENTS_AVG     69.432963\n",
       "NONLIVINGAPARTMENTS_MODE    69.432963\n",
       "FONDKAPREMONT_MODE          68.386172\n",
       "LIVINGAPARTMENTS_MEDI       68.354953\n",
       "LIVINGAPARTMENTS_AVG        68.354953\n",
       "LIVINGAPARTMENTS_MODE       68.354953\n",
       "FLOORSMIN_MEDI              67.848630\n",
       "FLOORSMIN_AVG               67.848630\n",
       "FLOORSMIN_MODE              67.848630\n",
       "YEARS_BUILD_AVG             66.497784\n",
       "YEARS_BUILD_MEDI            66.497784\n",
       "YEARS_BUILD_MODE            66.497784\n",
       "OWN_CAR_AGE                 65.990810\n",
       "LANDAREA_AVG                59.376738\n",
       "LANDAREA_MODE               59.376738\n",
       "LANDAREA_MEDI               59.376738\n",
       "BASEMENTAREA_MODE           58.515956\n",
       "BASEMENTAREA_MEDI           58.515956\n",
       "BASEMENTAREA_AVG            58.515956\n",
       "EXT_SOURCE_1                56.381073\n",
       "NONLIVINGAREA_AVG           55.179164\n",
       "NONLIVINGAREA_MODE          55.179164\n",
       "NONLIVINGAREA_MEDI          55.179164\n",
       "ELEVATORS_MODE              53.295980\n",
       "ELEVATORS_MEDI              53.295980\n",
       "ELEVATORS_AVG               53.295980\n",
       "dtype: float64"
      ]
     },
     "execution_count": 233,
     "metadata": {},
     "output_type": "execute_result"
    }
   ],
   "source": [
    "print(\"30 first columns filled with the most NaN values with their percentage:\")\n",
    "((app_train.isnull().sum()/app_train.shape[0])*100).sort_values(ascending=False).head(30)"
   ]
  },
  {
   "cell_type": "markdown",
   "id": "a7c33589",
   "metadata": {},
   "source": [
    "## Label encoding"
   ]
  },
  {
   "cell_type": "code",
   "execution_count": 175,
   "id": "cf97331e",
   "metadata": {
    "scrolled": true
   },
   "outputs": [
    {
     "name": "stdout",
     "output_type": "stream",
     "text": [
      "NAME_CONTRACT_TYPE\n",
      "CODE_GENDER\n",
      "FLAG_OWN_CAR\n",
      "FLAG_OWN_REALTY\n",
      "NAME_TYPE_SUITE\n",
      "NAME_INCOME_TYPE\n",
      "NAME_EDUCATION_TYPE\n",
      "NAME_FAMILY_STATUS\n",
      "NAME_HOUSING_TYPE\n",
      "OCCUPATION_TYPE\n",
      "WEEKDAY_APPR_PROCESS_START\n",
      "ORGANIZATION_TYPE\n",
      "FONDKAPREMONT_MODE\n",
      "HOUSETYPE_MODE\n",
      "WALLSMATERIAL_MODE\n",
      "EMERGENCYSTATE_MODE\n",
      "16 columns were label encoded.\n"
     ]
    }
   ],
   "source": [
    "le = LabelEncoder()\n",
    "le_count = 0\n",
    "\n",
    "for col in app_train:\n",
    "    if app_train[col].dtype == 'object':\n",
    "        le.fit(app_train[col])\n",
    "        app_train[col] = le.transform(app_train[col])\n",
    "        app_test[col] = le.transform(app_test[col])\n",
    "        le_count += 1\n",
    "        print(col)\n",
    "app_train.reset_index()\n",
    "app_test.reset_index()\n",
    "print('%d columns were label encoded.' % le_count)"
   ]
  },
  {
   "cell_type": "markdown",
   "id": "ae495b84",
   "metadata": {},
   "source": [
    "## Missing and infinite values"
   ]
  },
  {
   "cell_type": "code",
   "execution_count": 176,
   "id": "65e181bb",
   "metadata": {},
   "outputs": [],
   "source": [
    "app_train.replace([np.inf, -np.inf], np.nan, inplace=True)\n",
    "app_train.dropna(inplace= True)\n",
    "\n",
    "app_test.replace([np.inf, -np.inf], np.nan, inplace=True)\n",
    "app_test.dropna(inplace= True)"
   ]
  },
  {
   "cell_type": "code",
   "execution_count": 177,
   "id": "19f61488",
   "metadata": {
    "scrolled": true
   },
   "outputs": [
    {
     "data": {
      "text/plain": [
       "SK_ID_CURR                    0.0\n",
       "NAME_CONTRACT_TYPE            0.0\n",
       "CODE_GENDER                   0.0\n",
       "FLAG_OWN_CAR                  0.0\n",
       "FLAG_OWN_REALTY               0.0\n",
       "                             ... \n",
       "AMT_REQ_CREDIT_BUREAU_WEEK    0.0\n",
       "AMT_REQ_CREDIT_BUREAU_MON     0.0\n",
       "AMT_REQ_CREDIT_BUREAU_QRT     0.0\n",
       "AMT_REQ_CREDIT_BUREAU_YEAR    0.0\n",
       "TARGET                        0.0\n",
       "Length: 122, dtype: float64"
      ]
     },
     "execution_count": 177,
     "metadata": {},
     "output_type": "execute_result"
    }
   ],
   "source": [
    "(app_train.isnull().sum()/app_train.shape[0])*100"
   ]
  },
  {
   "cell_type": "markdown",
   "id": "400b3cf1",
   "metadata": {},
   "source": [
    "# Data cleanup "
   ]
  },
  {
   "cell_type": "markdown",
   "id": "65ad1e8f",
   "metadata": {},
   "source": [
    "## Days Birth feature"
   ]
  },
  {
   "cell_type": "markdown",
   "id": "ed0301a8",
   "metadata": {},
   "source": [
    "### Informations"
   ]
  },
  {
   "cell_type": "code",
   "execution_count": 178,
   "id": "f26e980f",
   "metadata": {},
   "outputs": [
    {
     "data": {
      "text/plain": [
       "count    11351.000000\n",
       "mean        39.680914\n",
       "std          9.719917\n",
       "min         21.117808\n",
       "25%         32.073973\n",
       "50%         38.435616\n",
       "75%         45.924658\n",
       "max         68.542466\n",
       "Name: DAYS_BIRTH, dtype: float64"
      ]
     },
     "execution_count": 178,
     "metadata": {},
     "output_type": "execute_result"
    }
   ],
   "source": [
    "(app_train['DAYS_BIRTH'] / -365).describe()"
   ]
  },
  {
   "cell_type": "markdown",
   "id": "584a671d",
   "metadata": {},
   "source": [
    "### Minimum and maximum value"
   ]
  },
  {
   "cell_type": "code",
   "execution_count": 179,
   "id": "6802f71d",
   "metadata": {},
   "outputs": [
    {
     "name": "stdout",
     "output_type": "stream",
     "text": [
      "Days birth min : 21.117808219178084 days\n",
      "Days birth max : 68.54246575342465 years\n"
     ]
    }
   ],
   "source": [
    "mini = abs(app_train['DAYS_BIRTH'].max())\n",
    "if mini > 365:\n",
    "    print(\"Days birth min :\", mini/365, \"days\" )\n",
    "else:\n",
    "    print(\"Days birth min :\", mini, \"days\" )\n",
    "    \n",
    "maxi = abs(app_train['DAYS_BIRTH'].min())\n",
    "print(\"Days birth max :\", maxi/365, \"years\" )"
   ]
  },
  {
   "cell_type": "markdown",
   "id": "3b519255",
   "metadata": {},
   "source": [
    "### Boxplots"
   ]
  },
  {
   "cell_type": "code",
   "execution_count": 180,
   "id": "bda89e9a",
   "metadata": {},
   "outputs": [
    {
     "data": {
      "image/png": "[encoded data removed]",
      "text/plain": [
       "<Figure size 432x288 with 1 Axes>"
      ]
     },
     "metadata": {
      "needs_background": "light"
     },
     "output_type": "display_data"
    }
   ],
   "source": [
    "ax = sns.boxplot(x=abs(app_train['DAYS_BIRTH']))\n",
    "plt.title('Boxplot of Days Birth before cleaning')\n",
    "plt.show()"
   ]
  },
  {
   "cell_type": "markdown",
   "id": "7e9d4d8e",
   "metadata": {},
   "source": [
    "## Days Employed feature"
   ]
  },
  {
   "cell_type": "markdown",
   "id": "77d3fd69",
   "metadata": {},
   "source": [
    "### Informations "
   ]
  },
  {
   "cell_type": "code",
   "execution_count": 181,
   "id": "0b999543",
   "metadata": {},
   "outputs": [
    {
     "data": {
      "text/plain": [
       "count     11351.000000\n",
       "mean      17310.202802\n",
       "std       82583.957313\n",
       "min      -15183.000000\n",
       "25%       -3010.500000\n",
       "50%       -1573.000000\n",
       "75%        -679.500000\n",
       "max      365243.000000\n",
       "Name: DAYS_EMPLOYED, dtype: float64"
      ]
     },
     "execution_count": 181,
     "metadata": {},
     "output_type": "execute_result"
    }
   ],
   "source": [
    "app_train['DAYS_EMPLOYED'].describe()"
   ]
  },
  {
   "cell_type": "markdown",
   "id": "c693ce5e",
   "metadata": {},
   "source": [
    "### Minimum and maximum values"
   ]
  },
  {
   "cell_type": "code",
   "execution_count": 182,
   "id": "7bdbb336",
   "metadata": {},
   "outputs": [
    {
     "name": "stdout",
     "output_type": "stream",
     "text": [
      "Days employed min : 1000.6657534246575 days\n",
      "Days employed max : 41.5972602739726 years\n"
     ]
    }
   ],
   "source": [
    "mini = abs(app_train['DAYS_EMPLOYED'].max())\n",
    "if mini > 365:\n",
    "    print(\"Days employed min :\", mini/365, \"days\" )\n",
    "else:\n",
    "    print(\"Days employed min :\", mini, \"days\" )\n",
    "    \n",
    "maxi = abs(app_train['DAYS_EMPLOYED'].min())\n",
    "print(\"Days employed max :\", maxi/365, \"years\" )"
   ]
  },
  {
   "cell_type": "markdown",
   "id": "ba61f283",
   "metadata": {},
   "source": [
    "### Boxplots"
   ]
  },
  {
   "cell_type": "code",
   "execution_count": 183,
   "id": "fd3f8e60",
   "metadata": {},
   "outputs": [
    {
     "data": {
      "image/png": "[encoded data removed]",
      "text/plain": [
       "<Figure size 432x288 with 1 Axes>"
      ]
     },
     "metadata": {
      "needs_background": "light"
     },
     "output_type": "display_data"
    }
   ],
   "source": [
    "ax = sns.boxplot(x=app_train['DAYS_EMPLOYED'])\n",
    "plt.title('Boxplot of Days Employed before cleaning')\n",
    "plt.show()"
   ]
  },
  {
   "cell_type": "markdown",
   "id": "1864b378",
   "metadata": {},
   "source": [
    "#### Removing anomalies"
   ]
  },
  {
   "cell_type": "code",
   "execution_count": 184,
   "id": "b9f37cbc",
   "metadata": {},
   "outputs": [],
   "source": [
    "app_train.drop(app_train.index[(app_train[\"DAYS_EMPLOYED\"] > 12000)], axis=0, inplace=True)\n",
    "app_test.drop(app_test.index[(app_test[\"DAYS_EMPLOYED\"] > 12000)], axis=0, inplace=True)"
   ]
  },
  {
   "cell_type": "code",
   "execution_count": 185,
   "id": "240570fa",
   "metadata": {},
   "outputs": [
    {
     "data": {
      "image/png": "[encoded data removed]",
      "text/plain": [
       "<Figure size 432x288 with 1 Axes>"
      ]
     },
     "metadata": {
      "needs_background": "light"
     },
     "output_type": "display_data"
    }
   ],
   "source": [
    "ax = sns.boxplot(x=abs(app_train['DAYS_EMPLOYED']))\n",
    "plt.title('Boxplot of Days Employed after cleaning')\n",
    "plt.show()"
   ]
  },
  {
   "cell_type": "markdown",
   "id": "b338c4c5",
   "metadata": {},
   "source": [
    "# Making our model"
   ]
  },
  {
   "cell_type": "markdown",
   "id": "59601e5a",
   "metadata": {},
   "source": [
    "## Correlations"
   ]
  },
  {
   "cell_type": "code",
   "execution_count": 186,
   "id": "7e884753",
   "metadata": {
    "scrolled": true
   },
   "outputs": [
    {
     "name": "stdout",
     "output_type": "stream",
     "text": [
      "Most Positive Correlations:\n",
      "\n",
      " CODE_GENDER                    0.030246\n",
      "NAME_HOUSING_TYPE              0.031263\n",
      "AMT_REQ_CREDIT_BUREAU_YEAR     0.033651\n",
      "NAME_INCOME_TYPE               0.034980\n",
      "OWN_CAR_AGE                    0.038692\n",
      "DAYS_BIRTH                     0.044388\n",
      "FLAG_DOCUMENT_3                0.054081\n",
      "REGION_RATING_CLIENT           0.054562\n",
      "DAYS_EMPLOYED                  0.059680\n",
      "NAME_EDUCATION_TYPE            0.059891\n",
      "REGION_RATING_CLIENT_W_CITY    0.062584\n",
      "TARGET                         1.000000\n",
      "FLAG_OWN_CAR                        NaN\n",
      "FLAG_MOBIL                          NaN\n",
      "FLAG_DOCUMENT_2                     NaN\n",
      "Name: TARGET, dtype: float64\n",
      "\n",
      "Most Negative Correlations:\n",
      "\n",
      " EXT_SOURCE_3           -0.157021\n",
      "EXT_SOURCE_2           -0.137090\n",
      "EXT_SOURCE_1           -0.133328\n",
      "FLOORSMAX_AVG          -0.047756\n",
      "FLOORSMAX_MODE         -0.047479\n",
      "FLOORSMAX_MEDI         -0.047193\n",
      "AMT_INCOME_TOTAL       -0.046054\n",
      "NAME_CONTRACT_TYPE     -0.041389\n",
      "FLOORSMIN_MEDI         -0.032337\n",
      "FLOORSMIN_AVG          -0.032266\n",
      "APARTMENTS_AVG         -0.031147\n",
      "TOTALAREA_MODE         -0.031085\n",
      "ELEVATORS_AVG          -0.031063\n",
      "LIVINGAPARTMENTS_AVG   -0.030947\n",
      "FLOORSMIN_MODE         -0.030779\n",
      "Name: TARGET, dtype: float64\n"
     ]
    }
   ],
   "source": [
    "correlations = app_train.corr()['TARGET'].sort_values()\n",
    "\n",
    "print('Most Positive Correlations:\\n\\n', correlations.tail(15))\n",
    "print('\\nMost Negative Correlations:\\n\\n', correlations.head(15))"
   ]
  },
  {
   "cell_type": "markdown",
   "id": "4572c27f",
   "metadata": {},
   "source": [
    "# Splitting data into train and validation"
   ]
  },
  {
   "cell_type": "code",
   "execution_count": 187,
   "id": "a7e5cca4",
   "metadata": {},
   "outputs": [],
   "source": [
    "Xdf = app_train\n",
    "Xdf.drop(\"TARGET\", axis = 1)\n",
    "X = np.array(Xdf)\n",
    "\n",
    "y = np.array(app_train[\"TARGET\"])"
   ]
  },
  {
   "cell_type": "code",
   "execution_count": 188,
   "id": "b68f9c80",
   "metadata": {},
   "outputs": [],
   "source": [
    "# Recommended test sizes for crossvalidation : [20, 25, 30]\n",
    "X_train, X_test, y_train, y_test = train_test_split(X, y, test_size = 0.25, stratify=y)"
   ]
  },
  {
   "cell_type": "markdown",
   "id": "cb253f14",
   "metadata": {},
   "source": [
    "# Logistic regression"
   ]
  },
  {
   "cell_type": "markdown",
   "id": "b4fb3eeb",
   "metadata": {},
   "source": [
    "Our problem is a very binary one : will someone repay their credit or won't they ? \n",
    "\n",
    "This is why we use logistic regression as our machine learning model."
   ]
  },
  {
   "cell_type": "markdown",
   "id": "da898c3e",
   "metadata": {},
   "source": [
    "## Model training"
   ]
  },
  {
   "cell_type": "code",
   "execution_count": 189,
   "id": "dcffd120",
   "metadata": {},
   "outputs": [
    {
     "data": {
      "text/plain": [
       "LogisticRegression()"
      ]
     },
     "execution_count": 189,
     "metadata": {},
     "output_type": "execute_result"
    }
   ],
   "source": [
    "model = LogisticRegression()\n",
    "model.fit(X_train, y_train)"
   ]
  },
  {
   "cell_type": "markdown",
   "id": "6385e818",
   "metadata": {},
   "source": [
    "## Model testing"
   ]
  },
  {
   "cell_type": "code",
   "execution_count": 190,
   "id": "b28586f8",
   "metadata": {},
   "outputs": [
    {
     "name": "stdout",
     "output_type": "stream",
     "text": [
      "Predictions:\n",
      "\n",
      " [0 0 0 ... 0 0 0] \n",
      "\n",
      "Real values:\n",
      "\n",
      " [0 0 0 ... 0 0 0]\n"
     ]
    }
   ],
   "source": [
    "y_pred = model.predict(X_test)\n",
    "print(\"Predictions:\\n\\n\", y_pred, '\\n')\n",
    "print(\"Real values:\\n\\n\", y_test)"
   ]
  },
  {
   "cell_type": "markdown",
   "id": "b81ba094",
   "metadata": {},
   "source": [
    "## Model evaluation"
   ]
  },
  {
   "cell_type": "markdown",
   "id": "508d42d5",
   "metadata": {},
   "source": [
    "### Confusion matrix"
   ]
  },
  {
   "cell_type": "code",
   "execution_count": 191,
   "id": "88b2c42a",
   "metadata": {},
   "outputs": [
    {
     "data": {
      "image/png": "[encoded data removed]",
      "text/plain": [
       "<Figure size 360x360 with 1 Axes>"
      ]
     },
     "metadata": {
      "needs_background": "light"
     },
     "output_type": "display_data"
    }
   ],
   "source": [
    "conf_matrix = metrics.confusion_matrix(y_test, y_pred)\n",
    "\n",
    "fig, ax = plt.subplots(figsize=(5, 5))\n",
    "ax.matshow(conf_matrix, cmap=plt.cm.Oranges, alpha=0.3)\n",
    "for i in range(conf_matrix.shape[0]):\n",
    "    for j in range(conf_matrix.shape[1]):\n",
    "        ax.text(x=j, y=i,s=conf_matrix[i, j], va='center', ha='center', size='xx-large')\n",
    "plt.xlabel('Predictions', fontsize=18)\n",
    "plt.ylabel('Actuals', fontsize=18)\n",
    "plt.title('Confusion Matrix', fontsize=18)\n",
    "plt.show()"
   ]
  },
  {
   "cell_type": "markdown",
   "id": "21ef411b",
   "metadata": {},
   "source": [
    "The confusion matrix shows us the number of : \n",
    "* True positives: 2523\n",
    "* True negatives: 0\n",
    "* False positives: 164\n",
    "* False negatives: 0"
   ]
  },
  {
   "cell_type": "code",
   "execution_count": 192,
   "id": "9da72ee6",
   "metadata": {},
   "outputs": [
    {
     "name": "stdout",
     "output_type": "stream",
     "text": [
      "              precision    recall  f1-score   support\n",
      "\n",
      "           0       0.94      1.00      0.97      2523\n",
      "           1       0.00      0.00      0.00       164\n",
      "\n",
      "    accuracy                           0.94      2687\n",
      "   macro avg       0.47      0.50      0.48      2687\n",
      "weighted avg       0.88      0.94      0.91      2687\n",
      "\n"
     ]
    }
   ],
   "source": [
    "print(classification_report(y_test, y_pred))"
   ]
  },
  {
   "cell_type": "markdown",
   "id": "1a91c85b",
   "metadata": {},
   "source": [
    "### Accuracy Score"
   ]
  },
  {
   "cell_type": "code",
   "execution_count": 193,
   "id": "04edbdb7",
   "metadata": {},
   "outputs": [
    {
     "name": "stdout",
     "output_type": "stream",
     "text": [
      "Accuracy score: 93.9 %\n",
      "\n",
      "Accuracy score using cross validation: 93.88 %\n",
      "\n"
     ]
    }
   ],
   "source": [
    "print(\"Accuracy score:\", round((accuracy_score(y_test, y_pred)*100), 2), '%\\n')\n",
    "print(\"Accuracy score using cross validation:\", \n",
    "      round((cross_val_score(model, X_train, y_train, cv=3, scoring='accuracy').mean())*100, 2), '%\\n')"
   ]
  },
  {
   "cell_type": "markdown",
   "id": "9004c33e",
   "metadata": {},
   "source": [
    "Model accuracy is a machine learning model performance metric that is defined as the ratio of true positives and true negatives to all positive and negative observations.\n",
    "\n",
    "The accuracy rate is great but it doesn’t tell us anything about the errors our machine learning models make on new data we haven’t seen before.\n",
    "\n",
    "Mathematically, it represents the ratio of the sum of true positive and true negatives out of all the predictions."
   ]
  },
  {
   "cell_type": "markdown",
   "id": "1e8f6938",
   "metadata": {},
   "source": [
    "### Precision Score"
   ]
  },
  {
   "cell_type": "code",
   "execution_count": 194,
   "id": "e01be8f0",
   "metadata": {
    "scrolled": true
   },
   "outputs": [
    {
     "name": "stdout",
     "output_type": "stream",
     "text": [
      "Precision score: 46.95 %\n",
      "\n"
     ]
    }
   ],
   "source": [
    "print(\"Precision score:\", round((precision_score(y_test, y_pred, average='macro')*100), 2), '%\\n')"
   ]
  },
  {
   "cell_type": "markdown",
   "id": "116d2c1d",
   "metadata": {},
   "source": [
    "The precision score is a useful measure of the success of prediction when the classes are very imbalanced.\n",
    "\n",
    "Mathematically, it represents the ratio of true positive to the sum of true positive and false positive."
   ]
  },
  {
   "cell_type": "markdown",
   "id": "3ee17fc8",
   "metadata": {},
   "source": [
    "### Recall Score"
   ]
  },
  {
   "cell_type": "code",
   "execution_count": 195,
   "id": "616e891b",
   "metadata": {},
   "outputs": [
    {
     "name": "stdout",
     "output_type": "stream",
     "text": [
      "Recall score: 0.0 %\n",
      "\n"
     ]
    }
   ],
   "source": [
    "print(\"Recall score:\", round((metrics.recall_score(y_test, y_pred)*100), 2), '%\\n')"
   ]
  },
  {
   "cell_type": "markdown",
   "id": "8456053f",
   "metadata": {},
   "source": [
    "Model recall score represents the model’s ability to correctly predict the positives out of actual positives. This is unlike precision which measures how many predictions made by models are actually positive out of all positive predictions made.\n",
    "\n",
    "Recall score is a useful measure of success of prediction when the classes are very imbalanced. \n",
    "\n",
    "Mathematically, it represents the ratio of true positive to the sum of true positive and false negative."
   ]
  },
  {
   "cell_type": "markdown",
   "id": "16b3bb34",
   "metadata": {},
   "source": [
    "### F1 Score"
   ]
  },
  {
   "cell_type": "code",
   "execution_count": 196,
   "id": "677e6c7f",
   "metadata": {},
   "outputs": [
    {
     "data": {
      "text/plain": [
       "0.0"
      ]
     },
     "execution_count": 196,
     "metadata": {},
     "output_type": "execute_result"
    }
   ],
   "source": [
    "metrics.f1_score(y_test, y_pred)"
   ]
  },
  {
   "cell_type": "markdown",
   "id": "b32b5ca0",
   "metadata": {},
   "source": [
    "F1-score is harmonic mean of precision and recall score and is used as a metrics in the scenarios where choosing either of precision or recall score can result in compromise in terms of model giving high false positives and false negatives respectively."
   ]
  },
  {
   "cell_type": "markdown",
   "id": "ff3de05b",
   "metadata": {},
   "source": [
    "### ROC Curve"
   ]
  },
  {
   "cell_type": "code",
   "execution_count": 197,
   "id": "30cee1e2",
   "metadata": {},
   "outputs": [
    {
     "data": {
      "image/png": "[encoded data removed]",
      "text/plain": [
       "<Figure size 432x288 with 1 Axes>"
      ]
     },
     "metadata": {
      "needs_background": "light"
     },
     "output_type": "display_data"
    }
   ],
   "source": [
    "prediction_prob = model.predict_proba(X_test)[::,1]\n",
    "fpr, tpr, _ = metrics.roc_curve(y_test,  prediction_prob)\n",
    "auc = metrics.roc_auc_score(y_test, prediction_prob)\n",
    "\n",
    "#create ROC curve\n",
    "plt.title(\"Receiver Operating Characteristic curve\")\n",
    "plt.plot(fpr,tpr,label=\"AUC=\"+str(auc))\n",
    "plt.legend(loc=4)\n",
    "plt.show()"
   ]
  },
  {
   "cell_type": "markdown",
   "id": "103d55fa",
   "metadata": {},
   "source": [
    "This curve displays the percentage of true positives predicted by the model as the prediction probability cutoff is lowered from 1 to 0.\n",
    "\n",
    "The higher the AUC (area under the curve), the more accurately our model is able to predict outcomes."
   ]
  }
 ],
 "metadata": {
  "kernelspec": {
   "display_name": "Python 3 (ipykernel)",
   "language": "python",
   "name": "python3"
  },
  "language_info": {
   "codemirror_mode": {
    "name": "ipython",
    "version": 3
   },
   "file_extension": ".py",
   "mimetype": "text/x-python",
   "name": "python",
   "nbconvert_exporter": "python",
   "pygments_lexer": "ipython3",
   "version": "3.9.6"
  }
 },
 "nbformat": 4,
 "nbformat_minor": 5
}
